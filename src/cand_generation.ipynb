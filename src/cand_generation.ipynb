{
 "cells": [
  {
   "cell_type": "code",
   "execution_count": 11,
   "id": "b93c482b",
   "metadata": {},
   "outputs": [],
   "source": [
    "from pathlib import Path\n",
    "from pymilvus import MilvusClient\n",
    "import os\n",
    "import numpy as np\n",
    "import pandas as pd\n",
    "import torch\n",
    "import tqdm\n",
    "import lightning as L\n",
    "from lightning.pytorch.callbacks import ModelCheckpoint\n",
    "import torch.nn.functional as F\n",
    "from data_modules.mind_recsys_data import MINDRecSysDataModule\n",
    "from data_modules.mind_component import load_news_data, load_history_data\n",
    "from modules.llama_decoder import LlamaDecoderForNextArticle\n",
    "from modules.res_vqvae import RVQVAE\n",
    "from modules.lstur import LSTUR\n",
    "from data_modules.indices_data import SeqVQVAEDataModule\n",
    "os.environ['CUDA_VISIBLE_DEVICES']  = '0,1,2,3,5'"
   ]
  },
  {
   "cell_type": "code",
   "execution_count": null,
   "id": "33d490e8",
   "metadata": {},
   "outputs": [],
   "source": []
  },
  {
   "cell_type": "code",
   "execution_count": 3,
   "id": "97c720cd",
   "metadata": {},
   "outputs": [],
   "source": [
    "device = torch.device(\"cuda\" if torch.cuda.is_available() else \"cpu\")\n",
    "\n",
    "codebook_size = 775\n",
    "codebook_sizes = [414, 69, 106, 69, 117]\n"
   ]
  },
  {
   "cell_type": "code",
   "execution_count": null,
   "id": "51f01460",
   "metadata": {},
   "outputs": [],
   "source": [
    "seqvqvae = LlamaDecoderForNextArticle.load_from_checkpoint(\n",
    "        '/home/users1/hardy/hardy/project/vae/checkpoints/seqvqvae_all_sts-epoch=14-val_loss=2.1423.ckpt',\n",
    "        codebook_size=codebook_size+1,\n",
    "        hidden_size=768,\n",
    "        intermediate_size=2048,\n",
    "        num_hidden_layers=10,\n",
    "        num_attention_heads=12,\n",
    "        max_position_embeddings=4090)\n",
    "seqvqvae.eval()\n",
    "seqvqvae.to(device)\n"
   ]
  },
  {
   "cell_type": "code",
   "execution_count": 4,
   "id": "659c19ae",
   "metadata": {},
   "outputs": [],
   "source": [
    "vqvae_checkpoint_paths = [\n",
    "    '/mount/arbeitsdaten66/projekte/multiview/hardy/project/vae/checkpoints/rvqvae_std_sts-epoch=12-val_loss=0.72483.ckpt',\n",
    "    '/mount/arbeitsdaten66/projekte/multiview/hardy/project/vae/checkpoints/rvqvae_cat_sts-epoch=12-val_loss=0.44667.ckpt',\n",
    "    '/mount/arbeitsdaten66/projekte/multiview/hardy/project/vae/checkpoints/rvqvae_frame_sts-epoch=18-val_loss=0.17045.ckpt',\n",
    "    '/mount/arbeitsdaten66/projekte/multiview/hardy/project/vae/checkpoints/rvqvae_political_sts-epoch=07-val_loss=0.27821.ckpt',\n",
    "    '/mount/arbeitsdaten66/projekte/multiview/hardy/project/vae/checkpoints/rvqvae_sentiment_sts-epoch=10-val_loss=0.40279.ckpt'\n",
    "\n",
    "\n",
    "]\n",
    "codebook_sizes = [414, 69, 106, 69, 117]\n",
    "codebook_dims = [512, 512, 512, 128, 512]\n",
    "hidden_sizes = [128, 256, 1024, 128, 256]\n",
    "vqvae_models = []\n",
    "for vqvae_path, codebook_size, codebook_dim, hidden_size in zip(vqvae_checkpoint_paths, codebook_sizes, codebook_dims, hidden_sizes):\n",
    "        rvqvae = RVQVAE.load_from_checkpoint(vqvae_path, \n",
    "                codebook_dim=codebook_dim, \n",
    "                codebook_sizes=[codebook_size],\n",
    "                num_quantizers=1,\n",
    "                encoder_hidden_size=hidden_size,\n",
    "                decoder_hidden_size=hidden_size,\n",
    "                input_size=1024)\n",
    "        rvqvae.eval()\n",
    "        vqvae_models.append(rvqvae)"
   ]
  },
  {
   "cell_type": "code",
   "execution_count": 4,
   "id": "8e759385",
   "metadata": {},
   "outputs": [],
   "source": [
    "def load_aspect_vectors(path: Path):\n",
    "    \"\"\"\n",
    "    Load aspect vectors from a given path.\n",
    "    \"\"\"\n",
    "    data = {}\n",
    "    with open(path, 'r') as f:\n",
    "        for line in f:\n",
    "            parts = line.strip().split()\n",
    "            nid = int(parts[0])\n",
    "            vector = [float(x) for x in parts[1:]]\n",
    "            data[nid] = np.array(vector, dtype=np.float32)\n",
    "    return data\n",
    "\n",
    "std_dev_data_path='/home/users1/hardy/hardy/datasets/mind_resplit/MINDlarge_dev'\n",
    "mfc_data_path='/home/users1/hardy/hardy/datasets/mind_resplit/MINDlarge_MFC_dev'\n",
    "sentiment_data_path = '/home/users1/hardy/hardy/datasets/mind_resplit/MINDlarge_sentiment_dev'\n",
    "political_data_path = '/home/users1/hardy/hardy/datasets/mind_resplit/MINDlarge_political_dev'\n",
    "news_std = load_news_data(Path(std_dev_data_path), 'dev')\n",
    "news_mfc = load_news_data(Path(mfc_data_path), 'dev')\n",
    "news_sentiment = load_news_data(Path(sentiment_data_path), 'dev')\n",
    "news_political = load_news_data(Path(political_data_path), 'dev')\n",
    "std_aspect_vector = load_aspect_vectors(Path('/home/users1/hardy/hardy/project/vae/outputs/mind/dev_mind_std_sts_aspect_vectors.txt'))\n",
    "mfc_aspect_vector = load_aspect_vectors(Path('/home/users1/hardy/hardy/project/vae/outputs/mind/dev_mind_frame_aspect_vectors.txt'))\n",
    "sentiment_aspect_vector = load_aspect_vectors(Path('/home/users1/hardy/hardy/project/vae/outputs/mind/dev_mind_sentiment_aspect_vectors.txt'))\n",
    "political_aspect_vector = load_aspect_vectors(Path('/home/users1/hardy/hardy/project/vae/outputs/mind/dev_mind_political_aspect_vectors.txt'))"
   ]
  },
  {
   "cell_type": "code",
   "execution_count": 5,
   "id": "04d68f29",
   "metadata": {},
   "outputs": [],
   "source": [
    "behavior = load_history_data(Path(std_dev_data_path), 'dev', news_std, fix_history=False)\n"
   ]
  },
  {
   "cell_type": "code",
   "execution_count": null,
   "id": "635f75d2",
   "metadata": {},
   "outputs": [],
   "source": [
    "def load_code_dict(code_dict_path):\n",
    "    code_dict = {}\n",
    "    with open(code_dict_path, 'r') as f:\n",
    "        for line in f:\n",
    "            parts = line.strip().split()\n",
    "            nid = parts[0]\n",
    "            code = int(parts[1])\n",
    "            code_dict[nid] = code\n",
    "    return code_dict\n",
    "\n",
    "# Example usage:\n",
    "std_code_dict = load_code_dict('/home/users1/hardy/hardy/project/vae/outputs/mind/dev_mind_std_sts_code_dict.txt')\n",
    "cat_code_dict = load_code_dict('/home/users1/hardy/hardy/project/vae/outputs/mind/dev_mind_category_code_dict.txt')\n",
    "mfc_code_dict = load_code_dict('/home/users1/hardy/hardy/project/vae/outputs/mind/dev_mind_frame_code_dict.txt')\n",
    "sentiment_code_dict = load_code_dict('/home/users1/hardy/hardy/project/vae/outputs/mind/dev_mind_sentiment_code_dict.txt')\n",
    "political_code_dict = load_code_dict('/home/users1/hardy/hardy/project/vae/outputs/mind/dev_mind_political_code_dict.txt')"
   ]
  },
  {
   "cell_type": "code",
   "execution_count": 6,
   "id": "bc9f37fd",
   "metadata": {},
   "outputs": [],
   "source": [
    "def indices_map(codebook_sizes):\n",
    "    \"\"\"\n",
    "    Maps indices to their respective codebook sizes.\n",
    "    \"\"\"\n",
    "    indices_map = {}\n",
    "    k = 0\n",
    "    for i in range(len(codebook_sizes)):\n",
    "         for j in range(codebook_sizes[i]):\n",
    "              indices_map[(i, j)] = k\n",
    "              k += 1\n",
    "    return indices_map"
   ]
  },
  {
   "cell_type": "code",
   "execution_count": 7,
   "id": "f5bdfd8c",
   "metadata": {},
   "outputs": [],
   "source": [
    "indices_map_dict = indices_map(codebook_sizes)"
   ]
  },
  {
   "cell_type": "code",
   "execution_count": null,
   "id": "37409c7a",
   "metadata": {},
   "outputs": [],
   "source": [
    "def encode_behavior(behavior, code_dict, indices_map_dict, i):\n",
    "    return_behavior = behavior.copy()\n",
    "    for idx, row in tqdm.tqdm(return_behavior.iterrows(), total=len(return_behavior)):\n",
    "        history_indices = []\n",
    "        for article_id in row['history'].split():\n",
    "            article_id = article_id[1:]\n",
    "            index = indices_map_dict[(i, code_dict[article_id])]\n",
    "            history_indices.append(str(index))\n",
    "        return_behavior.loc[idx, 'history_indices'] = ' '.join(history_indices)\n",
    "    return return_behavior\n",
    "\n",
    "std_behavior = encode_behavior(behavior, std_code_dict, indices_map_dict, 0)\n",
    "cat_behavior = encode_behavior(behavior, cat_code_dict, indices_map_dict, 1)\n",
    "mfc_behavior = encode_behavior(behavior, mfc_code_dict, indices_map_dict, 2)\n",
    "political_behavior = encode_behavior(behavior, political_code_dict, indices_map_dict, 3)\n",
    "sentiment_behavior = encode_behavior(behavior, sentiment_code_dict, indices_map_dict, 4)"
   ]
  },
  {
   "cell_type": "code",
   "execution_count": null,
   "id": "3190fe7b",
   "metadata": {},
   "outputs": [],
   "source": [
    "dfs_list = [std_behavior, cat_behavior, mfc_behavior, political_behavior, sentiment_behavior]\n",
    "# Assumes all DataFrames have the same order and columns: ['impression_id', 'user_id', 'history-1', 'history_indices']\n",
    "total_len = len(dfs_list[0])\n",
    "combined_indices = {}\n",
    "for i in tqdm.tqdm(range(total_len)):\n",
    "    combined_indices[dfs_list[0]['impression_id'][i]] = []\n",
    "    all_history_indices = [dfs_list[j]['history_indices'][i].split() for j in range(len(dfs_list))]\n",
    "    flat_zipped_indices = [idx for idc in zip(*all_history_indices) for idx in idc]\n",
    "    combined_indices[dfs_list[0]['impression_id'][i]] = flat_zipped_indices\n",
    "result_df = pd.DataFrame(combined_indices.items(), columns=['impression_id', 'history_indices'])\n",
    "# Take the longest history_indices for each impression_id\n",
    "result_df['history_indices'] = result_df['history_indices'].apply(lambda x: ' '.join(map(str, x)))\n",
    "result_df.to_csv('combined_history_indices.csv', index=False)"
   ]
  },
  {
   "cell_type": "code",
   "execution_count": 5,
   "id": "e31af764",
   "metadata": {},
   "outputs": [],
   "source": [
    "result_df = pd.read_csv('/home/users1/hardy/hardy/project/vae/outputs/mind/combined_dev_histories_indices.csv')"
   ]
  },
  {
   "cell_type": "code",
   "execution_count": 32,
   "id": "f8a32411",
   "metadata": {},
   "outputs": [
    {
     "ename": "NameError",
     "evalue": "name 'result_df' is not defined",
     "output_type": "error",
     "traceback": [
      "\u001b[31m---------------------------------------------------------------------------\u001b[39m",
      "\u001b[31mNameError\u001b[39m                                 Traceback (most recent call last)",
      "\u001b[36mCell\u001b[39m\u001b[36m \u001b[39m\u001b[32mIn[32]\u001b[39m\u001b[32m, line 1\u001b[39m\n\u001b[32m----> \u001b[39m\u001b[32m1\u001b[39m \u001b[43mresult_df\u001b[49m\n",
      "\u001b[31mNameError\u001b[39m: name 'result_df' is not defined"
     ]
    }
   ],
   "source": [
    "result_df"
   ]
  },
  {
   "cell_type": "code",
   "execution_count": null,
   "id": "352e9b3b",
   "metadata": {},
   "outputs": [],
   "source": [
    "seqvqvae_data_module = SeqVQVAEDataModule(\n",
    "    test_df = result_df,\n",
    "    batch_size=4,\n",
    "    max_len=10000,\n",
    "    overlap=0,\n",
    "    begin_token = sum(codebook_sizes)\n",
    ")\n",
    "seqvqvae_data_module.setup('test')"
   ]
  },
  {
   "cell_type": "code",
   "execution_count": null,
   "id": "d28cf210",
   "metadata": {},
   "outputs": [],
   "source": [
    "dataloader = seqvqvae_data_module.test_dataloader()"
   ]
  },
  {
   "cell_type": "code",
   "execution_count": null,
   "id": "8bfce420",
   "metadata": {},
   "outputs": [],
   "source": [
    "seqvqvae.set_predict_params(codebook_sizes=codebook_sizes, beam_size=10, n_tokens=5)"
   ]
  },
  {
   "cell_type": "code",
   "execution_count": null,
   "id": "83e2796d",
   "metadata": {},
   "outputs": [],
   "source": [
    "shapes = results[0].shape\n",
    "shapes"
   ]
  },
  {
   "cell_type": "code",
   "execution_count": null,
   "id": "0d95ad96",
   "metadata": {},
   "outputs": [],
   "source": [
    "results = []\n",
    "i = 5\n",
    "for batch in tqdm.tqdm(dataloader):\n",
    "    batch = [x.cuda() for x in batch]\n",
    "    outputs = seqvqvae.predict_step(batch, 0)\n",
    "    results.append(outputs[0].cpu().numpy())\n",
    "    i = i - 1\n",
    "    if i == 0:\n",
    "        break"
   ]
  },
  {
   "cell_type": "code",
   "execution_count": null,
   "id": "5ae344b4",
   "metadata": {},
   "outputs": [],
   "source": [
    "len(results)"
   ]
  },
  {
   "cell_type": "code",
   "execution_count": null,
   "id": "55e8a5bd",
   "metadata": {},
   "outputs": [],
   "source": [
    "output_lines = []\n",
    "split_results = [split for result in results for split in np.split(result, result.shape[0], axis=0)]\n",
    "output_lines.append(' '.join(map(str, split_results[0].shape)))\n",
    "for result in split_results:\n",
    "    result = np.reshape(result, -1)\n",
    "    output_lines.append(' '.join(map(str, result)))"
   ]
  },
  {
   "cell_type": "code",
   "execution_count": null,
   "id": "864e96e9",
   "metadata": {},
   "outputs": [],
   "source": [
    "with open('output_lines.txt', 'w') as f:\n",
    "    for line in output_lines:\n",
    "        f.write(line + '\\n')"
   ]
  },
  {
   "cell_type": "code",
   "execution_count": 6,
   "id": "bbab2d46",
   "metadata": {},
   "outputs": [],
   "source": [
    "def load_seq_result(path: Path):\n",
    "    \"\"\"\n",
    "    Load aspect vectors from a given path.\n",
    "    \"\"\"\n",
    "    shapes = []\n",
    "    data = []\n",
    "    with open(path, 'r') as f:\n",
    "        first = True\n",
    "        for line in f:\n",
    "            if first:\n",
    "                shapes = line.strip().split()\n",
    "                first = False\n",
    "            else:\n",
    "                parts = line.strip().split()\n",
    "                vector = np.array([int(x) for x in parts])\n",
    "                vector = vector.astype(np.int32).reshape(*map(int, shapes))\n",
    "                data.append(vector)\n",
    "    return data\n"
   ]
  },
  {
   "cell_type": "code",
   "execution_count": null,
   "id": "66707ad5",
   "metadata": {},
   "outputs": [],
   "source": [
    "output_lines_2 = load_seq_result(Path('output_lines.txt'))"
   ]
  },
  {
   "cell_type": "code",
   "execution_count": 7,
   "id": "febb92ec",
   "metadata": {},
   "outputs": [],
   "source": [
    "test_output = load_seq_result(Path('/home/users1/hardy/hardy/project/vae/outputs/mind/seq_prediction_beam_25.txt'))"
   ]
  },
  {
   "cell_type": "code",
   "execution_count": 13,
   "id": "4c95df94",
   "metadata": {},
   "outputs": [
    {
     "data": {
      "text/plain": [
       "25"
      ]
     },
     "execution_count": 13,
     "metadata": {},
     "output_type": "execute_result"
    }
   ],
   "source": [
    "len(test_output[0][0])"
   ]
  },
  {
   "cell_type": "code",
   "execution_count": 8,
   "id": "77437520",
   "metadata": {},
   "outputs": [],
   "source": [
    "def indices_map(codebook_sizes):\n",
    "    \"\"\"\n",
    "    Maps indices to their respective codebook sizes.\n",
    "    \"\"\"\n",
    "    indices_map = {}\n",
    "    k = 0\n",
    "    for i in range(len(codebook_sizes)):\n",
    "         for j in range(codebook_sizes[i]):\n",
    "              indices_map[k] = (i, j)\n",
    "              k += 1\n",
    "    return indices_map\n",
    "\n",
    "indices_map_dict = indices_map(codebook_sizes)"
   ]
  },
  {
   "cell_type": "code",
   "execution_count": 15,
   "id": "c4185cab",
   "metadata": {},
   "outputs": [
    {
     "name": "stderr",
     "output_type": "stream",
     "text": [
      "100%|██████████| 4/4 [00:01<00:00,  2.54it/s]\n"
     ]
    }
   ],
   "source": [
    "from tqdm import tqdm\n",
    "rows = []\n",
    "for prediction in tqdm(test_output[:4]):\n",
    "    candidates = []    \n",
    "    for cand in prediction.squeeze(0):\n",
    "        concat_vectors = []\n",
    "        for i in range(cand.shape[0]):\n",
    "            j, cand_idx = indices_map_dict[cand[i]]\n",
    "            assert i == j, f\"Index mismatch: {i} != {j} for cand_idx {cand_idx}\"\n",
    "            aspect_vector = vqvae_models[i].decode_from_index(torch.tensor(cand_idx, device=device, requires_grad=False)).detach().cpu().numpy()\n",
    "            concat_vectors.append(aspect_vector)\n",
    "        concat_vectors = np.concatenate(concat_vectors, axis=-1)\n",
    "        candidates.append(concat_vectors.squeeze(0))\n",
    "    rows.append(candidates)"
   ]
  },
  {
   "cell_type": "code",
   "execution_count": 16,
   "id": "f3e6b0dc",
   "metadata": {},
   "outputs": [
    {
     "data": {
      "text/plain": [
       "25"
      ]
     },
     "execution_count": 16,
     "metadata": {},
     "output_type": "execute_result"
    }
   ],
   "source": [
    "len(rows[0])"
   ]
  },
  {
   "cell_type": "code",
   "execution_count": 17,
   "id": "7e0f598d",
   "metadata": {},
   "outputs": [],
   "source": [
    "decoded_output = []\n",
    "for cand in test_output[1].squeeze(0):\n",
    "    concat_vectors = []\n",
    "    for i in range(cand.shape[0]):\n",
    "        j, cand_idx = indices_map_dict[cand[i]]\n",
    "        assert i == j, f\"Index mismatch: {i} != {j} for cand_idx {cand_idx}\"\n",
    "        aspect_vector = vqvae_models[i].decode_from_index(torch.tensor(cand_idx, device=device, requires_grad=False)).detach().cpu().numpy()\n",
    "        concat_vectors.append(aspect_vector)\n",
    "    concat_vectors = np.concatenate(concat_vectors, axis=-1)\n",
    "    decoded_output.append(concat_vectors.squeeze(0))"
   ]
  },
  {
   "cell_type": "code",
   "execution_count": null,
   "id": "803af4df",
   "metadata": {},
   "outputs": [],
   "source": [
    "import matplotlib.pyplot as plt\n",
    "\n",
    "flat_values = decoded_output[0].flatten()\n",
    "plt.hist(flat_values, bins=50)\n",
    "plt.title(\"Distribution of decoded_output[0] values\")\n",
    "plt.xlabel(\"Value\")\n",
    "plt.ylabel(\"Frequency\")\n",
    "plt.show()"
   ]
  },
  {
   "cell_type": "code",
   "execution_count": 12,
   "id": "fd197bee",
   "metadata": {},
   "outputs": [],
   "source": [
    "client = MilvusClient(\"/home/users1/hardy/hardy/project/vae/outputs/mind/aspect_data_new2.db\")\n"
   ]
  },
  {
   "cell_type": "code",
   "execution_count": 13,
   "id": "d5249b53",
   "metadata": {},
   "outputs": [
    {
     "name": "stdout",
     "output_type": "stream",
     "text": [
      "['dev_mind_2019_11_14', 'test_mind_2019_11_15']\n"
     ]
    }
   ],
   "source": [
    "collections = client.list_collections()\n",
    "print(collections)"
   ]
  },
  {
   "cell_type": "code",
   "execution_count": 15,
   "id": "e1b8629e",
   "metadata": {},
   "outputs": [
    {
     "name": "stdout",
     "output_type": "stream",
     "text": [
      "Number of instances in dev_mind_2019_11_14: 8705\n"
     ]
    }
   ],
   "source": [
    "# num_entities = client.num_entities(\"dev_mind_2019_11_14\")\n",
    "# Get collection statistics to find number of entities\n",
    "stats = client.get_collection_stats(\"dev_mind_2019_11_14\")\n",
    "num_entities = stats['row_count']\n",
    "print(f\"Number of instances in dev_mind_2019_11_14: {num_entities}\")"
   ]
  },
  {
   "cell_type": "code",
   "execution_count": 10,
   "id": "77940d47",
   "metadata": {},
   "outputs": [
    {
     "ename": "TypeError",
     "evalue": "'module' object is not callable. Did you mean: 'tqdm.tqdm(...)'?",
     "output_type": "error",
     "traceback": [
      "\u001b[31m---------------------------------------------------------------------------\u001b[39m",
      "\u001b[31mTypeError\u001b[39m                                 Traceback (most recent call last)",
      "\u001b[36mCell\u001b[39m\u001b[36m \u001b[39m\u001b[32mIn[10]\u001b[39m\u001b[32m, line 4\u001b[39m\n\u001b[32m      1\u001b[39m \u001b[38;5;28;01mimport\u001b[39;00m\u001b[38;5;250m \u001b[39m\u001b[34;01mrandom\u001b[39;00m\n\u001b[32m      3\u001b[39m rows = []\n\u001b[32m----> \u001b[39m\u001b[32m4\u001b[39m \u001b[38;5;28;01mfor\u001b[39;00m prediction \u001b[38;5;129;01min\u001b[39;00m \u001b[43mtqdm\u001b[49m\u001b[43m(\u001b[49m\u001b[43mtest_output\u001b[49m\u001b[43m[\u001b[49m\u001b[43m:\u001b[49m\u001b[32;43m100\u001b[39;49m\u001b[43m]\u001b[49m\u001b[43m)\u001b[49m:\n\u001b[32m      5\u001b[39m     candidates = []    \n\u001b[32m      6\u001b[39m     \u001b[38;5;28;01mfor\u001b[39;00m cand \u001b[38;5;129;01min\u001b[39;00m prediction.squeeze(\u001b[32m0\u001b[39m):\n\u001b[32m      7\u001b[39m         \u001b[38;5;66;03m# concat_vectors = []\u001b[39;00m\n\u001b[32m      8\u001b[39m \n\u001b[32m   (...)\u001b[39m\u001b[32m     16\u001b[39m         \u001b[38;5;66;03m# concat_vectors_concat = np.concatenate(concat_vectors, axis=-1)\u001b[39;00m\n\u001b[32m     17\u001b[39m         \u001b[38;5;66;03m# candidates.append(concat_vectors_concat.squeeze(0))\u001b[39;00m\n",
      "\u001b[31mTypeError\u001b[39m: 'module' object is not callable. Did you mean: 'tqdm.tqdm(...)'?"
     ]
    }
   ],
   "source": [
    "import random\n",
    "\n",
    "rows = []\n",
    "for prediction in tqdm(test_output[:100]):\n",
    "    candidates = []    \n",
    "    for cand in prediction.squeeze(0):\n",
    "        # concat_vectors = []\n",
    "        \n",
    "        # for i in range(cand.shape[0]):\n",
    "        #     j, cand_idx = indices_map_dict[cand[i]]\n",
    "        #     assert i == j, f\"Index mismatch: {i} != {j} for cand_idx {cand_idx}\"\n",
    "        #     aspect_vector = vqvae_models[i].decode_from_index(torch.tensor(cand_idx, device=device, requires_grad=False)).detach().cpu().numpy()\n",
    "        #     # if random.random() < 0.25:  # Only flip vectors for non-standard aspects\n",
    "        #     #     aspect_vector = -aspect_vector\n",
    "        #     concat_vectors.append(aspect_vector)\n",
    "        # concat_vectors_concat = np.concatenate(concat_vectors, axis=-1)\n",
    "        # candidates.append(concat_vectors_concat.squeeze(0))\n",
    "        concat_vectors = []\n",
    "        for i in range(cand.shape[0]):\n",
    "            j, cand_idx = indices_map_dict[cand[i]]\n",
    "            assert i == j, f\"Index mismatch: {i} != {j} for cand_idx {cand_idx}\"\n",
    "            aspect_vector = vqvae_models[i].decode_from_index(torch.tensor(cand_idx, device=device, requires_grad=False)).detach().cpu().numpy()\n",
    "            if random.random() < 0.5:  # Only flip vectors for non-standard aspects\n",
    "                aspect_vector = -aspect_vector\n",
    "            concat_vectors.append(aspect_vector)\n",
    "        concat_vectors_concat = np.concatenate(concat_vectors, axis=-1)\n",
    "        candidates.append(concat_vectors_concat.squeeze(0))\n",
    "    results = client.search(\n",
    "        collection_name=\"dev_mind_2019_11_14\",\n",
    "        search_params={\"metric_type\": \"IP\"},\n",
    "        anns_field=\"vector\",\n",
    "        data=candidates,\n",
    "        limit=2,\n",
    "        output_fields=[\"nid\", \"vector\"]\n",
    "    )\n",
    "    outputs = [None for _ in range(len(candidates))]\n",
    "    for i in range(len(candidates)):\n",
    "        outputs[i] = [res['nid'] for res in results[i]]\n",
    "    rows.append(outputs)\n",
    "rows = [[candidate for candidates in row for candidate in candidates] for row in rows]"
   ]
  },
  {
   "cell_type": "code",
   "execution_count": 25,
   "id": "fa5b4e0e",
   "metadata": {},
   "outputs": [],
   "source": [
    "def calculate_pairwise_dissimilarity(features):\n",
    "    features = np.stack(features)\n",
    "    norms = np.linalg.norm(features, axis=1, keepdims=True)\n",
    "    normalized = features / norms\n",
    "    similarity_matrix = np.dot(normalized, normalized.T)\n",
    "    return 1 - similarity_matrix\n",
    "\n",
    "def average_pairwise_dissimilarity(features):\n",
    "    if len(features) < 2:\n",
    "        return 0.0 # A list with 0 or 1 item has no diversity\n",
    "\n",
    "    dissimilarity_matrix = calculate_pairwise_dissimilarity(features)\n",
    "    \n",
    "    # We only need the upper triangle (excluding diagonal)\n",
    "    # The sum of unique pairs is the sum of all elements divided by 2 (because it's symmetric)\n",
    "    # and subtracting the diagonal (which is 0 for dissimilarity to itself).\n",
    "    # Easier: sum the upper triangle\n",
    "    upper_triangle_sum = np.sum(np.triu(dissimilarity_matrix, k=1))\n",
    "    \n",
    "    num_pairs = len(features) * (len(features) - 1) / 2\n",
    "    \n",
    "    if num_pairs == 0:\n",
    "        return 0.0\n",
    "        \n",
    "    return upper_triangle_sum / num_pairs\n",
    "\n"
   ]
  },
  {
   "cell_type": "code",
   "execution_count": 93,
   "id": "533b3ba3",
   "metadata": {},
   "outputs": [
    {
     "name": "stdout",
     "output_type": "stream",
     "text": [
      "0.50587916\n"
     ]
    }
   ],
   "source": [
    "score = 0.0\n",
    "for row in rows:\n",
    "    features = []\n",
    "    for candidate in set(row):\n",
    "        feature = std_aspect_vector[candidate]\n",
    "        features.append(feature)\n",
    "    dissimilarity = average_pairwise_dissimilarity(features)\n",
    "    score += dissimilarity\n",
    "score /= len(rows)\n",
    "print(score)"
   ]
  },
  {
   "cell_type": "code",
   "execution_count": null,
   "id": "cd4cc89d",
   "metadata": {},
   "outputs": [
    {
     "name": "stdout",
     "output_type": "stream",
     "text": [
      "0.46346933\n"
     ]
    }
   ],
   "source": []
  },
  {
   "cell_type": "code",
   "execution_count": 34,
   "id": "5945421e",
   "metadata": {},
   "outputs": [
    {
     "data": {
      "text/plain": [
       "[(109797, 5449.9345703125),\n",
       " (123026, 4928.3740234375),\n",
       " (1830, 5077.53662109375),\n",
       " (122267, 5467.5712890625),\n",
       " (120508, 4876.751953125),\n",
       " (74495, 5215.9599609375),\n",
       " (107474, 4397.984375),\n",
       " (100997, 5275.6533203125),\n",
       " (54250, 5170.484375),\n",
       " (22424, 5207.8349609375),\n",
       " (42245, 5681.4169921875),\n",
       " (113349, 5496.6591796875),\n",
       " (92498, 5111.955078125),\n",
       " (15308, 5485.8359375),\n",
       " (69387, 4908.2509765625),\n",
       " (92498, 4784.46826171875),\n",
       " (3356, 5391.423828125),\n",
       " (41808, 4445.25146484375),\n",
       " (100261, 4554.03759765625),\n",
       " (64831, 4965.2529296875),\n",
       " (88148, 5367.2412109375),\n",
       " (75353, 5771.7099609375),\n",
       " (35161, 5821.1923828125),\n",
       " (12216, 5428.8681640625),\n",
       " (104744, 5591.14697265625),\n",
       " (110550, 4746.9208984375),\n",
       " (65504, 4202.3134765625),\n",
       " (128936, 5747.4501953125),\n",
       " (67930, 5769.76708984375),\n",
       " (43248, 5306.103515625),\n",
       " (8403, 5184.4833984375),\n",
       " (65624, 5716.9462890625),\n",
       " (112151, 4759.73388671875),\n",
       " (81716, 5559.14306640625),\n",
       " (85261, 5654.15625),\n",
       " (88148, 5298.0439453125),\n",
       " (79760, 4389.09521484375),\n",
       " (54154, 4408.7861328125),\n",
       " (18680, 4975.60498046875),\n",
       " (67174, 4961.8955078125),\n",
       " (50435, 5490.921875),\n",
       " (112418, 5480.88671875),\n",
       " (58717, 5215.818359375),\n",
       " (79797, 5695.3896484375),\n",
       " (92498, 4692.6298828125),\n",
       " (10012, 5146.166015625),\n",
       " (78780, 5332.3251953125),\n",
       " (27096, 5728.0029296875),\n",
       " (50435, 5529.77880859375),\n",
       " (11853, 5202.171875),\n",
       " (94317, 5236.0361328125),\n",
       " (67760, 5127.4345703125),\n",
       " (9963, 5192.2041015625),\n",
       " (74636, 4602.427734375),\n",
       " (16428, 5499.873046875),\n",
       " (9540, 5546.88427734375),\n",
       " (35161, 5793.40625),\n",
       " (74636, 5550.89208984375),\n",
       " (29940, 4939.7490234375),\n",
       " (29133, 5267.908203125),\n",
       " (95334, 4496.06982421875),\n",
       " (2396, 4578.2490234375),\n",
       " (74636, 4750.9111328125),\n",
       " (22791, 4722.91162109375),\n",
       " (15308, 5591.8955078125),\n",
       " (113349, 5303.5498046875),\n",
       " (9540, 5587.12890625),\n",
       " (112827, 4550.38671875),\n",
       " (39877, 4584.861328125),\n",
       " (54154, 5228.43798828125),\n",
       " (111543, 4987.59814453125),\n",
       " (56913, 5397.2275390625),\n",
       " (43248, 5463.8095703125),\n",
       " (119104, 4943.02490234375),\n",
       " (49719, 5820.9072265625),\n",
       " (7425, 5077.8212890625),\n",
       " (111854, 5312.724609375),\n",
       " (125945, 5485.552734375),\n",
       " (17575, 5135.966796875),\n",
       " (14804, 4876.466796875),\n",
       " (37187, 4434.51318359375),\n",
       " (111543, 5160.40380859375),\n",
       " (74636, 5657.31396484375),\n",
       " (81492, 5150.3408203125),\n",
       " (3258, 4866.5654296875),\n",
       " (102095, 5568.8583984375),\n",
       " (111854, 5278.0380859375),\n",
       " (30802, 5993.6396484375),\n",
       " (50435, 5174.59326171875),\n",
       " (43046, 5669.9814453125),\n",
       " (50435, 4374.4072265625),\n",
       " (111565, 5415.24609375),\n",
       " (74593, 5648.015625),\n",
       " (92200, 5337.10595703125),\n",
       " (49128, 5639.43408203125),\n",
       " (117704, 5600.5859375),\n",
       " (62357, 5805.802734375),\n",
       " (12268, 4936.6748046875),\n",
       " (80370, 4989.162109375),\n",
       " (63300, 5193.15966796875)]"
      ]
     },
     "execution_count": 34,
     "metadata": {},
     "output_type": "execute_result"
    }
   ],
   "source": [
    "new_rows"
   ]
  },
  {
   "cell_type": "code",
   "execution_count": null,
   "id": "66eaf5a1",
   "metadata": {},
   "outputs": [
    {
     "data": {
      "text/plain": [
       "array([ 16428.        ,   5499.87304688,  19543.        ,   5478.94287109,\n",
       "         8077.        ,   5478.125     ,  24442.        ,   5443.41992188,\n",
       "       107695.        ,   5430.83642578,  57566.        ,   5428.89941406,\n",
       "       100766.        ,   5415.3984375 , 110819.        ,   5401.37353516,\n",
       "        75153.        ,   5373.47949219,  98472.        ,   5368.33203125,\n",
       "        76463.        ,   5364.49023438,  10839.        ,   5337.35791016,\n",
       "       119357.        ,   5322.09472656,  27481.        ,   5315.38427734,\n",
       "       117610.        ,   5312.18066406,  96944.        ,   5310.56835938,\n",
       "        47150.        ,   5283.27490234,  69563.        ,   5272.05322266,\n",
       "         3061.        ,   5262.02636719,  91792.        ,   5259.10351562,\n",
       "       128570.        ,   5242.12988281, 113149.        ,   5235.94140625,\n",
       "        40654.        ,   5223.17285156,  90709.        ,   5222.94238281,\n",
       "       117567.        ,   5204.01074219,  29940.        ,   4939.74902344,\n",
       "       123706.        ,   4903.03320312,  53741.        ,   4875.68066406,\n",
       "       101198.        ,   4846.90234375,  80378.        ,   4831.74707031,\n",
       "        69482.        ,   4824.85253906,   7195.        ,   4822.45996094,\n",
       "        66467.        ,   4819.98046875,  69915.        ,   4819.81689453,\n",
       "         6897.        ,   4816.58203125,   5534.        ,   4814.32324219,\n",
       "         2694.        ,   4806.35498047,  17328.        ,   4801.89306641,\n",
       "        81101.        ,   4801.18261719,   1795.        ,   4800.30175781,\n",
       "       112290.        ,   4794.26855469,  34625.        ,   4793.43359375,\n",
       "        11853.        ,   4775.44580078, 108970.        ,   4774.01953125,\n",
       "       126333.        ,   4773.22949219, 107081.        ,   4773.19140625,\n",
       "        18841.        ,   4771.01660156,  41949.        ,   4761.32519531,\n",
       "        30532.        ,   4759.95019531,  71239.        ,   4756.04638672,\n",
       "        49128.        ,   5639.43408203,  19795.        ,   5442.93994141,\n",
       "       104967.        ,   5254.34375   ,  83845.        ,   5101.69970703,\n",
       "       122640.        ,   4986.10839844, 128854.        ,   4982.06201172,\n",
       "        48758.        ,   4975.56640625, 120265.        ,   4963.16259766,\n",
       "        46641.        ,   4948.12060547,  78826.        ,   4931.45800781,\n",
       "        67494.        ,   4917.63964844,  65214.        ,   4908.78125   ,\n",
       "        44572.        ,   4902.29394531,  44077.        ,   4872.76269531,\n",
       "        40310.        ,   4863.53222656, 127593.        ,   4846.21679688,\n",
       "        26122.        ,   4822.06201172,   1368.        ,   4808.60449219,\n",
       "        97735.        ,   4788.09472656, 103872.        ,   4785.67480469,\n",
       "        28046.        ,   4766.11425781, 108957.        ,   4766.03466797,\n",
       "        28682.        ,   4758.26708984,  90383.        ,   4745.43652344,\n",
       "       128122.        ,   4743.97412109,  30802.        ,   5993.63964844,\n",
       "        55957.        ,   5966.07714844,  36724.        ,   5912.47070312,\n",
       "        25686.        ,   5910.41308594,  38692.        ,   5885.43408203,\n",
       "        35837.        ,   5875.24316406,  24408.        ,   5847.31835938,\n",
       "       123129.        ,   5831.34960938,  49300.        ,   5813.46386719,\n",
       "        18169.        ,   5790.87109375,  49124.        ,   5752.90722656,\n",
       "        79397.        ,   5736.11621094,  61517.        ,   5727.98535156,\n",
       "        81788.        ,   5724.65234375,  80361.        ,   5720.70507812,\n",
       "        23500.        ,   5713.84179688,  26083.        ,   5705.83203125,\n",
       "        78984.        ,   5672.10839844,  34774.        ,   5641.09667969,\n",
       "         5966.        ,   5593.90527344,  98290.        ,   5520.75683594,\n",
       "         2158.        ,   5442.63623047,  80887.        ,   5323.8203125 ,\n",
       "        13029.        ,   5316.57714844,  67290.        ,   5105.38378906,\n",
       "        88148.        ,   4682.86962891, 111291.        ,   4602.43798828,\n",
       "        72732.        ,   4583.99609375,  23842.        ,   4553.52392578,\n",
       "        13161.        ,   4550.69335938,  12453.        ,   4542.87158203,\n",
       "         1014.        ,   4535.58935547,  22723.        ,   4534.71337891,\n",
       "        54566.        ,   4529.77294922,  59301.        ,   4500.56933594,\n",
       "        33539.        ,   4500.07910156,  45476.        ,   4482.24951172,\n",
       "        12774.        ,   4472.10498047,  35709.        ,   4461.39355469,\n",
       "        53582.        ,   4459.98779297,  40846.        ,   4459.1328125 ,\n",
       "        56390.        ,   4458.26757812, 117724.        ,   4452.61230469,\n",
       "       106198.        ,   4449.05957031,  96915.        ,   4432.7890625 ,\n",
       "        15395.        ,   4429.08642578,  64308.        ,   4426.25878906,\n",
       "       115445.        ,   4417.43164062,    755.        ,   4411.64746094,\n",
       "        62670.        ,   4409.25097656,  54154.        ,   4408.78613281,\n",
       "        12210.        ,   4351.33691406,  42822.        ,   4290.19726562,\n",
       "        29441.        ,   4192.13671875,  64659.        ,   4176.49267578,\n",
       "        92009.        ,   4144.80810547,  65452.        ,   4108.0078125 ,\n",
       "       104173.        ,   4107.75439453,  75692.        ,   4100.83007812,\n",
       "        55498.        ,   4064.29418945,  65747.        ,   4012.38842773,\n",
       "        80974.        ,   4008.91748047, 127660.        ,   3951.42236328,\n",
       "        75109.        ,   3927.85522461,  63908.        ,   3914.18896484,\n",
       "        82315.        ,   3874.54394531, 111798.        ,   3829.36254883,\n",
       "        23920.        ,   3795.45532227,  12974.        ,   3741.56054688,\n",
       "        99867.        ,   3739.5859375 ,  47474.        ,   3727.56518555,\n",
       "          364.        ,   3708.79272461,  40513.        ,   3694.328125  ,\n",
       "        96540.        ,   3686.12011719,  18642.        ,   3679.1315918 ,\n",
       "        43046.        ,   5554.01855469,  66243.        ,   5548.14453125,\n",
       "        95798.        ,   5521.00683594, 102113.        ,   5514.16601562,\n",
       "       128696.        ,   5492.06445312, 104777.        ,   5482.56738281,\n",
       "        68190.        ,   5475.52636719,   8814.        ,   5464.88085938,\n",
       "        36270.        ,   5449.60546875, 126394.        ,   5431.05810547,\n",
       "        52255.        ,   5424.44238281,  27585.        ,   5414.20410156,\n",
       "        16849.        ,   5403.92041016,  73010.        ,   5394.69726562,\n",
       "       103823.        ,   5362.29638672,  21499.        ,   5360.09082031,\n",
       "        58814.        ,   5358.9140625 ,  20273.        ,   5344.30322266,\n",
       "        13507.        ,   5332.87060547,  53397.        ,   5294.35107422,\n",
       "        41971.        ,   5282.32128906, 115212.        ,   5267.36328125,\n",
       "        44029.        ,   5249.57226562,  58553.        ,   5233.72021484,\n",
       "         7939.        ,   5230.42724609, 112827.        ,   5426.96679688,\n",
       "        72659.        ,   5390.92431641, 129507.        ,   5387.72949219,\n",
       "        43361.        ,   5364.83496094,  71394.        ,   5359.04492188,\n",
       "        84706.        ,   5348.69775391,  27822.        ,   5305.91162109,\n",
       "        80295.        ,   5297.87402344,  70552.        ,   5282.09375   ,\n",
       "        99846.        ,   5270.65722656,  36807.        ,   5269.45996094,\n",
       "        87660.        ,   5262.78808594, 127402.        ,   5255.39013672,\n",
       "        84891.        ,   5254.46875   ,  32753.        ,   5245.70898438,\n",
       "        30440.        ,   5242.87597656,  41737.        ,   5229.08349609,\n",
       "        92195.        ,   5209.90771484, 119893.        ,   5203.55664062,\n",
       "        22136.        ,   5190.68017578,  36689.        ,   5185.97558594,\n",
       "        33918.        ,   5185.09277344,  85729.        ,   5178.14648438,\n",
       "        25470.        ,   5173.64404297,  61643.        ,   5172.16992188,\n",
       "        18960.        ,   5467.60644531,  99226.        ,   5453.53564453,\n",
       "        18430.        ,   5421.72070312,   4647.        ,   5421.06347656,\n",
       "        27867.        ,   5388.75878906, 104114.        ,   5371.10546875,\n",
       "        82070.        ,   5363.7421875 ,   2967.        ,   5341.24365234,\n",
       "        36417.        ,   5337.66894531,  11281.        ,   5321.75292969,\n",
       "        70502.        ,   5311.17138672, 124631.        ,   5310.05419922,\n",
       "        88827.        ,   5295.81005859,  46694.        ,   5279.62402344,\n",
       "        52619.        ,   5275.29638672,  32013.        ,   5274.55615234,\n",
       "       110417.        ,   5257.9140625 , 113555.        ,   5257.85058594,\n",
       "         1850.        ,   5257.2421875 ,  13594.        ,   5254.83789062,\n",
       "       118685.        ,   5241.18652344,  60252.        ,   5204.72167969,\n",
       "        94306.        ,   5200.17773438,  75541.        ,   5192.62597656,\n",
       "       128786.        ,   5191.4765625 ,  94317.        ,   5248.98925781,\n",
       "        94381.        ,   5099.1640625 ,  10894.        ,   4947.16650391,\n",
       "        38753.        ,   4907.61914062,  81227.        ,   4859.58349609,\n",
       "       101923.        ,   4827.08203125,  39290.        ,   4811.56542969,\n",
       "       111428.        ,   4507.22412109,  16989.        ,   4505.70507812,\n",
       "        31917.        ,   4477.65136719,  95349.        ,   4445.47949219,\n",
       "       110435.        ,   4418.1640625 ,  63886.        ,   4391.14160156,\n",
       "        42522.        ,   4390.78662109,  27597.        ,   4390.65087891,\n",
       "         1830.        ,   4383.72460938,  39613.        ,   4378.95996094,\n",
       "       102660.        ,   4367.80371094,  30602.        ,   4366.13769531,\n",
       "        30802.        ,   4363.52246094,  98531.        ,   4352.61621094,\n",
       "          416.        ,   4345.02148438,   1081.        ,   4344.31152344,\n",
       "        94042.        ,   4344.31152344, 102547.        ,   4344.31152344,\n",
       "        67174.        ,   4961.89550781,  78508.        ,   4782.13818359,\n",
       "       112335.        ,   4630.58447266, 110435.        ,   4621.97802734,\n",
       "        86986.        ,   4580.87744141,    416.        ,   4561.7734375 ,\n",
       "         1081.        ,   4552.36035156,  94042.        ,   4552.36035156,\n",
       "       102547.        ,   4552.36035156,  66299.        ,   4552.36035156,\n",
       "        42522.        ,   4552.14697266,  69653.        ,   4531.07519531,\n",
       "        27597.        ,   4514.21484375,  81682.        ,   4510.70605469,\n",
       "        97229.        ,   4505.52441406,   1830.        ,   4504.63085938,\n",
       "       120113.        ,   4498.48144531, 105064.        ,   4492.13232422,\n",
       "        71329.        ,   4483.40283203,   4585.        ,   4472.77050781,\n",
       "       102660.        ,   4471.47070312,  34733.        ,   4468.16992188,\n",
       "        37767.        ,   4461.57080078, 105812.        ,   4459.11230469,\n",
       "        49332.        ,   4458.49804688, 110550.        ,   4726.13867188,\n",
       "        47589.        ,   4713.69140625,   6565.        ,   4708.23046875,\n",
       "        37570.        ,   4671.85351562,  73030.        ,   4629.08496094,\n",
       "        92673.        ,   4619.49121094, 119637.        ,   4578.32714844,\n",
       "        38014.        ,   4522.94140625,  47800.        ,   4489.79589844,\n",
       "        48626.        ,   4481.99902344, 108049.        ,   4477.76464844,\n",
       "       107394.        ,   4475.99267578,  91690.        ,   4360.14892578,\n",
       "       122727.        ,   4345.08203125, 106187.        ,   4337.18359375,\n",
       "        71552.        ,   4310.28466797, 104458.        ,   4290.859375  ,\n",
       "        35546.        ,   4273.99121094,  11479.        ,   4271.22070312,\n",
       "       117065.        ,   4264.29785156,  20901.        ,   4254.20214844,\n",
       "        47513.        ,   4226.56542969, 108818.        ,   4220.46582031,\n",
       "       102443.        ,   4028.60913086, 110104.        ,   4025.16552734,\n",
       "        65591.        ,   4748.48339844,  14676.        ,   4704.84912109,\n",
       "        86951.        ,   4686.81152344,  43625.        ,   4660.5625    ,\n",
       "       118732.        ,   4656.46386719,   9801.        ,   4629.36230469,\n",
       "        12268.        ,   4579.98339844,  35069.        ,   4563.3984375 ,\n",
       "        29545.        ,   4541.85351562,  11512.        ,   4527.92089844,\n",
       "        47691.        ,   4526.50048828,  48736.        ,   4523.51904297,\n",
       "        84907.        ,   4516.24951172,  31422.        ,   4512.21679688,\n",
       "        91993.        ,   4502.82666016,   6754.        ,   4500.81835938,\n",
       "        17929.        ,   4486.89355469,    368.        ,   4479.82617188,\n",
       "        95506.        ,   4478.86914062,   1100.        ,   4473.42285156,\n",
       "       123615.        ,   4472.37939453,  90730.        ,   4470.91015625,\n",
       "        60377.        ,   4466.54492188,  98322.        ,   4457.71582031,\n",
       "        60384.        ,   4455.95996094, 100456.        ,   5559.67773438,\n",
       "        54925.        ,   5457.18847656,   7968.        ,   5404.33837891,\n",
       "        65817.        ,   5403.29052734,  48418.        ,   5398.77490234,\n",
       "       119674.        ,   5363.47314453,  42649.        ,   5354.00439453,\n",
       "        37697.        ,   5346.05566406,  54031.        ,   5340.78369141,\n",
       "         7698.        ,   5332.40625   ,  11643.        ,   5303.02148438,\n",
       "        79437.        ,   5292.91699219,  55650.        ,   5285.59228516,\n",
       "         6865.        ,   5279.17871094,  98753.        ,   5237.31201172,\n",
       "        76209.        ,   5233.65332031,  48136.        ,   5219.19238281,\n",
       "        57370.        ,   5200.83251953,   1469.        ,   5165.19824219,\n",
       "        44909.        ,   5147.359375  ,  83598.        ,   5142.35742188,\n",
       "       120484.        ,   5099.29199219,  53721.        ,   5061.1875    ,\n",
       "        67942.        ,   5045.06835938,  73903.        ,   5037.63476562,\n",
       "       112151.        ,   5705.43359375,  53802.        ,   5621.37988281,\n",
       "        10931.        ,   5601.04882812,  86504.        ,   5594.91210938,\n",
       "       104684.        ,   5583.20410156, 125344.        ,   5574.03613281,\n",
       "        51852.        ,   5573.81542969,  16713.        ,   5573.17822266,\n",
       "        19432.        ,   5546.32519531,  64427.        ,   5545.97412109,\n",
       "        48969.        ,   5537.11035156, 106005.        ,   5536.01074219,\n",
       "       102064.        ,   5530.26367188,  66122.        ,   5519.18652344,\n",
       "        91892.        ,   5518.49072266,  73213.        ,   5509.02148438,\n",
       "       100978.        ,   5506.55322266, 123866.        ,   5502.75878906,\n",
       "        56451.        ,   5497.23925781,  15210.        ,   5495.98535156,\n",
       "        44264.        ,   5487.03515625, 118789.        ,   5483.43212891,\n",
       "        43355.        ,   5481.70703125,  80784.        ,   5479.60742188,\n",
       "        71907.        ,   5478.33691406, 111543.        ,   5160.40380859,\n",
       "        96351.        ,   4744.86474609, 122775.        ,   4604.65429688,\n",
       "        33319.        ,   4598.55664062, 130116.        ,   4582.74267578,\n",
       "        39568.        ,   4572.76074219,  22856.        ,   4545.39697266,\n",
       "        27429.        ,   4510.953125  ,  43907.        ,   4503.03222656,\n",
       "        91665.        ,   4485.16699219, 104691.        ,   4483.01318359,\n",
       "        42181.        ,   4479.04052734,  82476.        ,   4477.08300781,\n",
       "        84263.        ,   4465.37792969, 119999.        ,   4461.95654297,\n",
       "        33728.        ,   4451.55957031,  13824.        ,   4441.24658203,\n",
       "        13919.        ,   4439.4296875 ,  19218.        ,   4434.51464844,\n",
       "        91932.        ,   4424.82568359,  62294.        ,   4424.72753906,\n",
       "        18680.        ,   4419.56298828,  45429.        ,   4412.91308594,\n",
       "        68417.        ,   4407.25488281,  48608.        ,   4407.09375   ,\n",
       "        74636.        ,   5550.89208984, 100173.        ,   5461.91796875,\n",
       "       127455.        ,   5424.10546875,  94901.        ,   5392.48046875,\n",
       "       119681.        ,   5281.27539062,  48177.        ,   5273.2109375 ,\n",
       "         8731.        ,   5269.58984375, 116064.        ,   5267.75097656,\n",
       "        51022.        ,   5201.16699219,  96314.        ,   5144.88378906,\n",
       "        28925.        ,   5125.4375    ,  36448.        ,   5095.63134766,\n",
       "        75499.        ,   5031.93408203, 105316.        ,   5012.36865234,\n",
       "        77665.        ,   5009.42285156,  60615.        ,   5007.90332031,\n",
       "       115655.        ,   4999.38671875,  58417.        ,   4987.17382812,\n",
       "       121356.        ,   4984.3515625 , 104430.        ,   4976.3671875 ,\n",
       "        53802.        ,   4969.41455078, 112151.        ,   4963.17871094,\n",
       "       110387.        ,   4958.41503906,  47489.        ,   4955.80566406,\n",
       "        16713.        ,   4949.11767578,  10012.        ,   4394.16113281,\n",
       "        76468.        ,   4219.76855469,  71329.        ,   4206.64355469,\n",
       "        98531.        ,   4114.68652344,  81682.        ,   4055.66308594,\n",
       "        29517.        ,   4039.38012695,  30206.        ,   4028.71777344,\n",
       "         3071.        ,   4028.36547852, 110435.        ,   3958.78564453,\n",
       "       103469.        ,   3955.94116211,  91299.        ,   3946.21240234,\n",
       "       127357.        ,   3899.05859375,  38171.        ,   3889.65917969,\n",
       "       104019.        ,   3872.05322266,   1081.        ,   3855.73706055,\n",
       "        94042.        ,   3855.73706055, 102547.        ,   3855.73706055,\n",
       "        66299.        ,   3855.73706055,  69653.        ,   3837.77026367,\n",
       "        45526.        ,   3831.00805664,  91704.        ,   3810.79394531,\n",
       "        73510.        ,   3801.28759766, 106817.        ,   3788.1171875 ,\n",
       "        86986.        ,   3785.69287109,  97229.        ,   3756.56616211,\n",
       "        27429.        ,   5092.44824219,  43907.        ,   5010.12353516,\n",
       "       122775.        ,   4989.30957031, 130116.        ,   4980.72167969,\n",
       "        96351.        ,   4965.5390625 , 119999.        ,   4962.80078125,\n",
       "        91665.        ,   4904.87548828,  33728.        ,   4893.68798828,\n",
       "        21705.        ,   4879.32324219,  91932.        ,   4856.29101562,\n",
       "        19218.        ,   4847.09765625, 113135.        ,   4844.99609375,\n",
       "        62294.        ,   4828.84960938,  68417.        ,   4823.875     ,\n",
       "       120960.        ,   4815.69726562,  39568.        ,   4796.67675781,\n",
       "       123196.        ,   4796.24560547,  27036.        ,   4770.69628906,\n",
       "        37321.        ,   4766.61914062,  38383.        ,   4758.53271484,\n",
       "        51923.        ,   4753.04638672,  23453.        ,   4720.16992188,\n",
       "        63900.        ,   4713.953125  ,  90072.        ,   4698.05810547,\n",
       "        52258.        ,   4687.01367188,  67174.        ,   4755.48632812,\n",
       "        78508.        ,   4546.03027344,  86986.        ,   4387.89453125,\n",
       "       110435.        ,   4358.17382812,  80690.        ,   4351.10839844,\n",
       "       112335.        ,   4349.63867188,  69653.        ,   4343.56494141,\n",
       "         1081.        ,   4320.87304688,  94042.        ,   4320.87304688,\n",
       "       102547.        ,   4320.87304688,  66299.        ,   4320.87304688,\n",
       "       120113.        ,   4313.50976562,  97229.        ,   4303.94824219,\n",
       "       102660.        ,   4298.42871094,  27597.        ,   4297.65429688,\n",
       "        42522.        ,   4294.41210938, 105812.        ,   4292.9375    ,\n",
       "       105064.        ,   4284.99902344,  49332.        ,   4283.45361328,\n",
       "       104019.        ,   4268.36865234,  71329.        ,   4266.20117188,\n",
       "         4585.        ,   4261.84716797,  29549.        ,   4260.91162109,\n",
       "        30602.        ,   4260.26074219,  39613.        ,   4258.34863281])"
      ]
     },
     "execution_count": 73,
     "metadata": {},
     "output_type": "execute_result"
    }
   ],
   "source": [
    "import pickle\n",
    "\n",
    "with open('rows.pkl', 'wb') as f:\n",
    "    pickle.dump(rows, f)"
   ]
  }
 ],
 "metadata": {
  "kernelspec": {
   "display_name": ".venv",
   "language": "python",
   "name": "python3"
  },
  "language_info": {
   "codemirror_mode": {
    "name": "ipython",
    "version": 3
   },
   "file_extension": ".py",
   "mimetype": "text/x-python",
   "name": "python",
   "nbconvert_exporter": "python",
   "pygments_lexer": "ipython3",
   "version": "3.12.11"
  }
 },
 "nbformat": 4,
 "nbformat_minor": 5
}
