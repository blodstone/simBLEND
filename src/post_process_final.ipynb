{
 "cells": [
  {
   "cell_type": "code",
   "execution_count": 1,
   "id": "2a10d0a2",
   "metadata": {},
   "outputs": [],
   "source": [
    "import pandas as pd\n",
    "from pathlib import Path\n",
    "import numpy as np\n",
    "import pickle\n",
    "from data_modules.mind_component import load_news_data, load_history_data\n",
    "from utils.file import load_aspect_vectors\n"
   ]
  },
  {
   "cell_type": "code",
   "execution_count": 2,
   "id": "8a1c5169",
   "metadata": {},
   "outputs": [],
   "source": [
    "candidates = pickle.load(open(\n",
    "    \"/home/users1/hardy/hardy/project/vae/outputs/mind/seq_prediction_beam_5_cands.pickle\", \"rb\"\n",
    "))\n"
   ]
  },
  {
   "cell_type": "code",
   "execution_count": 3,
   "id": "b00fd0c2",
   "metadata": {},
   "outputs": [],
   "source": [
    "candidates10 = pickle.load(open(\n",
    "    \"/home/users1/hardy/hardy/project/vae/outputs/mind/seq_prediction_beam_10_cands.pickle\", \"rb\"\n",
    "))"
   ]
  },
  {
   "cell_type": "code",
   "execution_count": 4,
   "id": "e61df75e",
   "metadata": {},
   "outputs": [],
   "source": [
    "std_dev_data_path='/home/users1/hardy/hardy/datasets/mind_resplit/MINDlarge_dev'\n",
    "news_std = load_news_data(Path(std_dev_data_path), 'dev')\n",
    "behavior = load_history_data(Path(std_dev_data_path), 'dev', news_std, fix_history=False)\n"
   ]
  },
  {
   "cell_type": "code",
   "execution_count": 5,
   "id": "0aff64cd",
   "metadata": {},
   "outputs": [],
   "source": [
    "impressions_by_user = behavior.groupby('user_id')['impressions'].apply(list)\n",
    "impressions_by_user = impressions_by_user.apply(lambda impressions: [news.split('-')[0][1:] for impression in impressions for news in impression.split() if news.split('-')[1] == '1'])"
   ]
  },
  {
   "cell_type": "code",
   "execution_count": 6,
   "id": "abf6117c",
   "metadata": {},
   "outputs": [],
   "source": [
    "behavior = behavior.merge(impressions_by_user.rename('user_clicks'), left_on='user_id', right_index=True, how='left')"
   ]
  },
  {
   "cell_type": "code",
   "execution_count": 8,
   "id": "6a9285d9",
   "metadata": {},
   "outputs": [],
   "source": [
    "behavior['generated_impressions'] = candidates\n",
    "behavior['generated_impressions10'] = candidates10"
   ]
  },
  {
   "cell_type": "code",
   "execution_count": 99,
   "id": "b643b87a",
   "metadata": {},
   "outputs": [
    {
     "data": {
      "text/plain": [
       "10"
      ]
     },
     "execution_count": 99,
     "metadata": {},
     "output_type": "execute_result"
    }
   ],
   "source": [
    "len(candidates[0][1])"
   ]
  },
  {
   "cell_type": "code",
   "execution_count": 9,
   "id": "3aa40711",
   "metadata": {},
   "outputs": [],
   "source": [
    "behavior['generated_impressions'] = behavior['generated_impressions'].apply(lambda x: list(set([str(item[0]) for item in sorted([candidate for candidates in x for candidate in candidates],key=lambda x: x[1])])))\n",
    "behavior['generated_impressions10'] = behavior['generated_impressions10'].apply(lambda x: list(set([str(item[0]) for item in sorted([candidate for candidates in x for candidate in candidates],key=lambda x: x[1])])))"
   ]
  },
  {
   "cell_type": "code",
   "execution_count": 10,
   "id": "b8592428",
   "metadata": {},
   "outputs": [],
   "source": [
    "std_aspect_vector = load_aspect_vectors(Path('/home/users1/hardy/hardy/project/vae/outputs/mind/dev_mind_std_sts_aspect_vectors.txt'))\n",
    "cat_aspect_vector = load_aspect_vectors(Path('/home/users1/hardy/hardy/project/vae/outputs/mind/dev_mind_category_aspect_vectors.txt'))\n",
    "mfc_aspect_vector = load_aspect_vectors(Path('/home/users1/hardy/hardy/project/vae/outputs/mind/dev_mind_frame_aspect_vectors.txt'))\n",
    "sentiment_aspect_vector = load_aspect_vectors(Path('/home/users1/hardy/hardy/project/vae/outputs/mind/dev_mind_sentiment_aspect_vectors.txt'))\n",
    "political_aspect_vector = load_aspect_vectors(Path('/home/users1/hardy/hardy/project/vae/outputs/mind/dev_mind_political_aspect_vectors.txt'))"
   ]
  },
  {
   "cell_type": "code",
   "execution_count": 11,
   "id": "0b468f94",
   "metadata": {},
   "outputs": [],
   "source": [
    "behavior['overlap_count'] = behavior.apply(\n",
    "    lambda row: len(set(row['generated_impressions10']) & set(row['user_clicks'])),\n",
    "    axis=1\n",
    ")"
   ]
  },
  {
   "cell_type": "code",
   "execution_count": 12,
   "id": "9b573372",
   "metadata": {},
   "outputs": [
    {
     "data": {
      "text/plain": [
       "np.int64(18815)"
      ]
     },
     "execution_count": 12,
     "metadata": {},
     "output_type": "execute_result"
    }
   ],
   "source": [
    "behavior['overlap_count'].sum()"
   ]
  },
  {
   "cell_type": "code",
   "execution_count": null,
   "id": "0e01631a",
   "metadata": {},
   "outputs": [],
   "source": []
  },
  {
   "cell_type": "code",
   "execution_count": 8,
   "id": "ca020d9b",
   "metadata": {},
   "outputs": [
    {
     "data": {
      "text/plain": [
       "np.float64(40.39401944260664)"
      ]
     },
     "execution_count": 8,
     "metadata": {},
     "output_type": "execute_result"
    }
   ],
   "source": [
    "behavior['impressions'].apply(lambda x: len(x.split())).mean()"
   ]
  },
  {
   "cell_type": "code",
   "execution_count": 17,
   "id": "91064d45",
   "metadata": {},
   "outputs": [],
   "source": [
    "from numpy import concat\n",
    "\n",
    "\n",
    "def calculate_pairwise_dissimilarity(features):\n",
    "    features = np.stack(features)\n",
    "    norms = np.linalg.norm(features, axis=1, keepdims=True)\n",
    "    normalized = features / norms\n",
    "    similarity_matrix = np.dot(normalized, normalized.T)\n",
    "    return 1 - similarity_matrix\n",
    "\n",
    "def extract_aspect_vectors(articles, aspect_vectors):\n",
    "    results = []\n",
    "    for article in articles:\n",
    "        concatenated_vector = []\n",
    "        for aspect_vector in aspect_vectors:\n",
    "            concatenated_vector.append(aspect_vector[article])\n",
    "        results.append(concat(concatenated_vector))\n",
    "    return results\n",
    "\n",
    "def average_pairwise_dissimilarity(articles):\n",
    "    if len(articles) < 2:\n",
    "        return 0.0 # A list with 0 or 1 item has no diversity\n",
    "    aspect_vectors = [\n",
    "        std_aspect_vector,\n",
    "        cat_aspect_vector,\n",
    "        mfc_aspect_vector,\n",
    "        political_aspect_vector,\n",
    "        sentiment_aspect_vector\n",
    "    ]\n",
    "    features = extract_aspect_vectors(articles, aspect_vectors) \n",
    "    dissimilarity_matrix = calculate_pairwise_dissimilarity(features)\n",
    "    \n",
    "    # We only need the upper triangle (excluding diagonal)\n",
    "    # The sum of unique pairs is the sum of all elements divided by 2 (because it's symmetric)\n",
    "    # and subtracting the diagonal (which is 0 for dissimilarity to itself).\n",
    "    # Easier: sum the upper triangle\n",
    "    upper_triangle_sum = np.sum(np.triu(dissimilarity_matrix, k=1))\n",
    "    \n",
    "    num_pairs = len(features) * (len(features) - 1) / 2\n",
    "    \n",
    "    if num_pairs == 0:\n",
    "        return 0.0\n",
    "        \n",
    "    return upper_triangle_sum / num_pairs\n",
    "\n"
   ]
  },
  {
   "cell_type": "code",
   "execution_count": null,
   "id": "88f99a57",
   "metadata": {},
   "outputs": [],
   "source": [
    "def serendipity(recommended, clicked, aspect_vectors):\n",
    "    \"\"\"\n",
    "    Measures serendipity as the average dissimilarity between recommended items and previously clicked items.\n",
    "    \"\"\"\n",
    "    if not recommended or not clicked:\n",
    "        return 0.0\n",
    "    recommended_vecs = extract_aspect_vectors(recommended, aspect_vectors) \n",
    "    clicked_vecs = extract_aspect_vectors(clicked, aspect_vectors)\n",
    "    if not recommended_vecs or not clicked_vecs:\n",
    "        return 0.0\n",
    "    # recommended_vecs = np.stack(recommended_vecs)\n",
    "    # clicked_vecs = np.stack(clicked_vecs)\n",
    "    # Cosine similarity\n",
    "    recommended_norm = recommended_vecs / np.linalg.norm(recommended_vecs, axis=1, keepdims=True)\n",
    "    clicked_norm = clicked_vecs / np.linalg.norm(clicked_vecs, axis=1, keepdims=True)\n",
    "    similarity = np.dot(recommended_norm, clicked_norm.T)\n",
    "    max_sim = np.max(similarity, axis=1)  # For each recommended, max similarity to any clicked\n",
    "    serendipity_score = np.mean(1 - max_sim)\n",
    "    return serendipity_score\n",
    "\n",
    "def novelty(recommended, all_clicked):\n",
    "    \"\"\"\n",
    "    Measures novelty as the proportion of recommended items not seen in the user's history.\n",
    "    \"\"\"\n",
    "    if not recommended:\n",
    "        return 0.0\n",
    "    novel_count = len([news for news in recommended if news not in all_clicked])\n",
    "    return novel_count / len(recommended)"
   ]
  },
  {
   "cell_type": "code",
   "execution_count": 18,
   "id": "a0c3dd66",
   "metadata": {},
   "outputs": [],
   "source": [
    "behavior['impressions_diversity'] = behavior['impressions'].apply(lambda x: average_pairwise_dissimilarity([int(news.split('-')[0][1:]) for news in x.split()]))"
   ]
  },
  {
   "cell_type": "code",
   "execution_count": 19,
   "id": "3d49aad2",
   "metadata": {},
   "outputs": [],
   "source": [
    "behavior['gen_impressions_diversity'] = behavior['generated_impressions'].apply(lambda x: average_pairwise_dissimilarity([int(news) for news in x]))\n"
   ]
  },
  {
   "cell_type": "code",
   "execution_count": 20,
   "id": "57f94734",
   "metadata": {},
   "outputs": [],
   "source": [
    "behavior['gen_impressions_diversity10'] = behavior['generated_impressions10'].apply(lambda x: average_pairwise_dissimilarity([int(news) for news in x]))"
   ]
  },
  {
   "cell_type": "code",
   "execution_count": 21,
   "id": "07127169",
   "metadata": {},
   "outputs": [
    {
     "data": {
      "text/plain": [
       "(np.float32(0.5363731),\n",
       " np.float32(0.5786311),\n",
       " np.float32(0.6834256),\n",
       " np.float64(0.0454312771947786))"
      ]
     },
     "execution_count": 21,
     "metadata": {},
     "output_type": "execute_result"
    }
   ],
   "source": [
    "behavior['gen_impressions_diversity'].mean(), behavior['gen_impressions_diversity10'].mean(), behavior['impressions_diversity'].mean(), behavior['overlap_count'].mean()"
   ]
  },
  {
   "cell_type": "code",
   "execution_count": null,
   "id": "9d3a4387",
   "metadata": {},
   "outputs": [],
   "source": [
    "behavior['parsed_history'] = behavior['history'].apply(lambda x: [int(news[1:]) for news in x.split()])\n",
    "behavior['parsed_impressions'] = behavior['impressions'].apply(lambda x: [int(news.split('-')[0][1:]) for news in x.split()])"
   ]
  },
  {
   "cell_type": "code",
   "execution_count": 38,
   "id": "c7367c21",
   "metadata": {},
   "outputs": [],
   "source": [
    "behavior['parsed_generated_impressions'] = behavior['generated_impressions'].apply(lambda x: [int(news) for news in x])\n",
    "behavior['parsed_generated_impressions10'] = behavior['generated_impressions10'].apply(lambda x: [int(news) for news in x])"
   ]
  },
  {
   "cell_type": "code",
   "execution_count": 36,
   "id": "124ac498",
   "metadata": {},
   "outputs": [],
   "source": [
    "behavior['impression_serenditity'] = behavior.apply(lambda row: serendipity(\n",
    "    row['parsed_impressions'],\n",
    "    row['parsed_history'],\n",
    "    [\n",
    "        std_aspect_vector,\n",
    "        cat_aspect_vector,\n",
    "        mfc_aspect_vector,\n",
    "        political_aspect_vector,\n",
    "        sentiment_aspect_vector\n",
    "    ]\n",
    "), axis=1)"
   ]
  },
  {
   "cell_type": "code",
   "execution_count": 39,
   "id": "27cd0c4c",
   "metadata": {},
   "outputs": [],
   "source": [
    "behavior['gen_impression_serendipity'] = behavior.apply(lambda row: serendipity(\n",
    "    row['parsed_generated_impressions'],\n",
    "    row['parsed_history'],\n",
    "    [\n",
    "        std_aspect_vector,\n",
    "        cat_aspect_vector,\n",
    "        mfc_aspect_vector,\n",
    "        political_aspect_vector,\n",
    "        sentiment_aspect_vector\n",
    "    ]\n",
    "), axis=1)"
   ]
  },
  {
   "cell_type": "code",
   "execution_count": 40,
   "id": "93942f1b",
   "metadata": {},
   "outputs": [],
   "source": [
    "behavior['gen_impression_serendipity10'] = behavior.apply(lambda row: serendipity(\n",
    "    row['parsed_generated_impressions10'],\n",
    "    row['parsed_history'],\n",
    "    [\n",
    "        std_aspect_vector,\n",
    "        cat_aspect_vector,\n",
    "        mfc_aspect_vector,\n",
    "        political_aspect_vector,\n",
    "        sentiment_aspect_vector\n",
    "    ]\n",
    "), axis=1)"
   ]
  },
  {
   "cell_type": "code",
   "execution_count": 41,
   "id": "ebadc376",
   "metadata": {},
   "outputs": [
    {
     "data": {
      "text/plain": [
       "(np.float32(0.43359718), np.float32(0.3906677), np.float32(0.40109715))"
      ]
     },
     "execution_count": 41,
     "metadata": {},
     "output_type": "execute_result"
    }
   ],
   "source": [
    "behavior['impression_serenditity'].mean(), behavior['gen_impression_serendipity'].mean(), behavior['gen_impression_serendipity10'].mean()"
   ]
  },
  {
   "cell_type": "code",
   "execution_count": null,
   "id": "5c77991f",
   "metadata": {},
   "outputs": [
    {
     "data": {
      "application/vnd.microsoft.datawrangler.viewer.v0+json": {
       "columns": [
        {
         "name": "index",
         "rawType": "int64",
         "type": "integer"
        },
        {
         "name": "history",
         "rawType": "object",
         "type": "unknown"
        }
       ],
       "ref": "7476cfab-af2f-4d90-a11c-4de5c980a4d1",
       "rows": [
        [
         "0",
         "['64300', '48084', '91968', '13434', '73137', '1886', '90966', '18904', '1713', '40765', '120031', '21641', '67466', '35667', '10490', '112667', '108016', '41056', '67497', '120196', '50684', '11952', '41214', '31494', '64035', '70868', '73183', '81315', '78570', '88019', '54753', '75342', '73240', '11653', '116736', '127001', '18681', '97815', '51166', '41083', '93681', '38254', '101083', '7416', '126000', '101119', '78377', '80304', '22444', '98657']"
        ],
        [
         "1",
         "['4833', '61319', '94639', '50163', '107002', '112041', '49839', '20487', '9690', '23920', '117654', '40944', '73137']"
        ],
        [
         "2",
         "['112192', '82348', '80126', '78767', '7553', '87364', '121592', '51707', '31079', '83356', '1886', '37530']"
        ],
        [
         "3",
         "['64593', '82779', '33216', '9321', '128643', '64496', '68093', '53360', '99191', '82154', '103181', '103181', '97089', '95392', '109225', '46664', '116144', '40587', '126063', '6612', '127336', '25951', '3423', '48376', '77002', '59351', '86208', '73412', '59172', '90586', '5952', '87364', '80027', '119674', '96546', '5103', '54893', '115500', '85063', '22562', '51424', '10015']"
        ],
        [
         "4",
         "['36816', '51964', '16426', '85101', '49839', '102403', '120098', '82348', '79285', '88892', '126063', '42707', '48804', '17424', '5068', '57113', '112333', '118005', '15098', '50441', '22756', '115073', '30267', '43513', '50249', '1596', '127726', '62969', '53933', '54360', '87658', '4329', '58653', '77124', '119126', '11585', '17438', '78367', '78367', '11841', '71643', '91597', '73792', '87871', '128483', '29430', '70022', '42661', '77826', '81315']"
        ],
        [
         "5",
         "['61361', '90686', '102743', '39592', '127177', '71166', '59351', '126673', '86208', '80', '6958', '72640', '94407', '10012', '73137', '45698', '57459', '112687']"
        ],
        [
         "6",
         "['100201', '106046', '102357', '94422', '80420']"
        ],
        [
         "7",
         "['3560', '38098', '39472', '45902', '66860', '75436', '97428', '40987', '18399', '9892', '79724', '93006', '71068', '62529', '1596', '17291', '46051', '93685', '11266', '29457', '56850', '58200', '87913', '59700']"
        ],
        [
         "8",
         "['5056', '106288', '82348', '16100', '18534', '40228', '14611', '86153', '107441', '128125', '62297', '40765', '68793', '15320']"
        ],
        [
         "9",
         "['82799', '72571', '48215', '10766', '107441', '11266', '102185', '28529', '9970', '67698', '87512', '55324', '84273', '42718', '73137', '50891', '120031', '85103', '14979', '102132', '1960', '96617', '59936', '108115']"
        ],
        [
         "10",
         "['48475', '91597', '56099']"
        ],
        [
         "11",
         "['50914', '41484', '6408', '46582', '26421', '62690', '77869', '98099', '57176', '128643', '87571', '78057', '101280', '113547', '40800', '127631', '19344', '79529', '35893', '65299', '86208', '129836', '21880', '109508', '59683', '23264', '114615', '79781', '88330', '45124', '8179', '68612', '28442', '105175', '54167', '129316', '110572', '53650', '125910', '47258', '91387', '50831', '7041']"
        ],
        [
         "12",
         "['81937', '112835', '85484', '24738', '127780', '104654', '50645', '3948', '106611']"
        ],
        [
         "13",
         "['21256', '85484', '61319', '63676', '9375', '67127', '85624', '130269', '117275', '116319', '27352', '24786', '61802', '104927', '125954', '15371', '15375', '23264', '73302', '112642', '11076', '84799', '71643', '91597', '73137', '114787', '9835', '47589', '31323', '73902']"
        ],
        [
         "14",
         "['65119', '40228', '4289', '14611', '9970', '91597', '8223', '115296', '84423']"
        ],
        [
         "15",
         "['3285', '114873', '57217', '114972', '122071', '76099', '54393', '92159', '114581', '5283', '28958', '6696', '88787', '50428', '124102', '23666', '24446', '52677', '71356', '81921', '87115', '75220', '77135', '129439', '18904', '127207', '3978', '90966', '1886', '7046', '106702', '84534', '44451', '9823', '1960', '67101', '34516', '111439', '94112', '37395', '15206', '83062', '82055', '82055', '87174', '84433', '37530', '8904', '43766', '36076']"
        ],
        [
         "16",
         "['41122', '57148', '59820', '65612', '104200', '63676', '63676', '84217', '86690', '34611', '6603', '24320', '128550', '125141', '93497', '25463', '16100', '1296', '54948', '27352', '129083', '72218', '120860', '5952', '12575', '116869', '86359', '91943', '55655', '84245']"
        ],
        [
         "17",
         "['122359', '46591', '105630', '90926', '93082', '48149', '72571', '80686', '16247', '93871', '108284', '71949', '90368', '49623', '59111', '115359', '73408', '31325', '71665', '31723', '64862', '73963', '29753', '53933', '82879', '104737', '97875', '47588', '72976', '107516', '23666', '72868', '66294', '116989', '41702', '75851', '108312', '12798', '77135', '20901', '26863', '52964', '10490', '61952', '69879']"
        ],
        [
         "18",
         "['6958', '65613', '11631', '91597', '123548', '4858', '24124']"
        ],
        [
         "19",
         "['54307', '12681', '3426']"
        ],
        [
         "20",
         "['64710', '84642', '46994', '116068', '17210', '21653', '100655', '25197', '44524', '100430', '17460', '116747', '11266', '69696', '21880', '114335', '92043', '1596', '61873', '127418', '8991', '11878', '47017', '90273', '71977', '44826', '121820', '125961', '48524', '123974', '46892', '77135', '74971', '116734', '126027', '102132', '97080', '16125', '76785', '23550', '76350', '17787', '2539', '12800', '125086', '34374', '93557', '24115', '114408', '50536']"
        ],
        [
         "21",
         "['46591', '8668', '67127', '26834', '24141', '46333', '90578', '21671', '116236', '126834', '108284', '67133', '116068', '48804', '36573']"
        ],
        [
         "22",
         "['66231', '24738', '20694', '77283', '48167', '49839', '49668', '34094', '122561', '6612', '36035', '36911', '86208', '66666', '91810', '95131', '1596', '119674', '82746', '113698', '33735', '52435', '91649', '108632', '1713', '40765', '81105', '14551', '34516']"
        ],
        [
         "23",
         "['57681', '112546', '53796', '62205', '116171', '85428', '32713', '61854', '60556', '85229', '86322', '71068', '25817', '25817', '86153', '5648', '106621', '95609', '6931', '48258', '20926', '9090', '26023', '42356']"
        ],
        [
         "24",
         "['9740', '124922', '22187', '1465', '6008', '62427', '39384', '60001', '80126', '67258', '101873', '87877', '89375', '37637', '92890', '15899', '18399', '99267', '87364', '121550', '104737', '112642', '45298', '98095', '91597', '89906', '18548', '74267', '110258', '14509', '67369']"
        ],
        [
         "25",
         "['81937', '33177', '106854', '101263', '37069', '104634', '14240', '36246', '82348', '80126', '4289', '18399', '23929', '40765', '10490', '108701', '2539']"
        ],
        [
         "26",
         "['39483', '49404', '31043', '27779', '100847', '15667', '7998', '128965', '27423', '127785', '112324', '127916', '47639', '42994', '109598', '108284', '71949', '42718', '53650', '16925', '108115', '78008', '20102', '88189', '67369', '59280', '106568', '84423', '73902', '27703']"
        ],
        [
         "27",
         "['58992', '47587', '93667', '95380', '82799', '84896', '112905', '738', '127225', '60001', '71728', '6799', '15666', '49262', '62105', '92890', '129083', '10739', '119710', '10231', '70910', '36573', '65199', '66326', '8991', '71643', '91597', '32043', '86231', '97080', '107322']"
        ],
        [
         "28",
         "['45124', '23655', '9687', '47017', '107264', '69278', '45124', '100670', '91597', '58200', '79026', '108701', '52964', '91465', '86409']"
        ],
        [
         "29",
         "['89892', '47265', '107401', '64518', '49262', '79938', '107995', '86141', '4598', '13996', '40228', '54948', '51893', '10031', '26358', '24786', '93049', '100655', '109818', '92679', '119778', '76469', '124719', '41326', '130208', '120940', '128141', '19306', '86412', '32942', '117119', '72666', '87284', '46892', '75714', '58200', '10811', '42718', '84320', '77135', '89850', '5326', '75877', '12922', '18904', '97212', '25186', '76275', '99474', '107014']"
        ],
        [
         "30",
         "['43130', '52839', '118024', '66949', '129970']"
        ],
        [
         "31",
         "['42703', '109498', '54948']"
        ],
        [
         "32",
         "['114848', '23264', '91810', '71112', '106403', '1596', '58653', '129084', '20251', '11878', '72640', '112751', '82243', '75373', '98095', '79781', '114571', '23899', '91597', '39785', '40584', '114581', '35053', '59573', '58228', '61321', '4066', '122784', '128483', '56768', '94407', '81299', '15611', '58200', '5326', '79026', '126955', '96000', '40765', '18819', '93397', '106702', '50891', '43087', '59836', '91923', '87146', '55235', '50831', '19543']"
        ],
        [
         "33",
         "['112324', '126834']"
        ],
        [
         "34",
         "['32220', '114044', '28745', '27726', '738', '102876', '9060', '129530', '34802', '68598', '22273', '28574', '5502', '18399', '116367', '57904', '24242', '69292', '48045', '52576', '79724', '79071', '50148', '24632', '10985', '122217', '95731', '30321', '86208', '31649', '29221', '21239', '72976', '71977', '107516', '98095', '52044', '91156', '116989', '93066', '72333', '120806', '54909', '33735', '97667', '125196', '67206', '41106', '8006', '1304']"
        ],
        [
         "35",
         "['12707', '29595', '66535', '110474', '58503']"
        ],
        [
         "36",
         "['111654', '125618', '62205', '128820', '66283', '63676', '6692', '121551', '63998', '34684', '111307', '9276', '111531', '78879', '40207', '119430', '12575', '115743', '45706', '55318', '28113', '96437', '76970', '60001', '49668', '13996', '30276', '56927', '127336', '12575', '69221', '27352', '119430', '43228', '62480', '57945', '11823', '93049', '100670', '110572', '26986', '1713', '120031', '67369', '51166', '20646']"
        ],
        [
         "37",
         "['34292', '41679', '123743', '28880', '91810', '11383', '37061', '42718', '100161']"
        ],
        [
         "38",
         "['128643', '19959', '9375', '102506', '127923', '56855', '118024', '74324', '23899', '65346', '115857', '126742', '93397', '14509', '84433', '67068']"
        ],
        [
         "39",
         "['79511', '9375', '67715', '72930', '52516', '46664']"
        ],
        [
         "40",
         "['81475', '81937', '87446', '47587', '33476', '102506', '104760', '67623', '115743', '42994', '98847', '116473', '94577', '4104', '82348', '80126', '25034', '7673', '92655', '29910', '3948', '53933', '119674', '112642', '114873', '63630', '22114', '54972', '127629', '129439', '82055', '22660', '3604', '51166']"
        ],
        [
         "41",
         "['113547', '55903', '58990', '85659', '127337', '85056', '72571', '118038', '115743', '127916', '37206', '738', '119800', '130288', '10097', '4289', '93049', '124506', '121025', '112901', '54380', '53310', '88366', '22756', '6032', '105366', '106403', '68796', '48177', '51431', '121592', '50720', '99827', '29035', '29208', '114135']"
        ],
        [
         "42",
         "['22950', '126968', '75821', '80126', '36573', '37706', '36573', '6238', '121704', '64932', '16123']"
        ],
        [
         "43",
         "['96108', '18720', '84730', '52074', '11946', '58200', '33198', '29430', '122054', '78130', '98574', '15611', '96185', '48531', '64432', '106702', '74138', '37218', '52435', '122427', '91879', '115658', '125960', '67053', '40765', '93397', '8984', '11397', '5429', '120031', '560', '22543', '120196', '5103', '28348', '1960', '79547', '67174', '78008', '60510', '63476', '125910', '34374', '11516', '84436', '20285', '59280', '31323', '67369', '71726']"
        ],
        [
         "44",
         "['81940', '110900', '16453', '111531', '36502', '49311', '8894', '4104', '15986', '57821', '6846', '92498']"
        ],
        [
         "45",
         "['67731', '130269', '94295', '20487', '92655']"
        ],
        [
         "46",
         "['9740', '125587', '80268', '4833', '13850', '75236', '35060', '58034', '31043', '128965', '87446', '83597', '45396', '108621', '1845', '57602', '112324', '92144', '60814', '125895', '10871', '127780', '110795', '66812', '11563', '85510', '25463', '34207', '87055', '73376', '123743', '4041', '25197', '77541', '50148', '11050', '64336', '126244', '64490', '25082', '106456', '11397', '54763', '71092', '12800', '10042', '1061', '36000', '112550', '51166']"
        ],
        [
         "47",
         "['9060', '127923', '71166', '54871', '28574', '46123', '1296', '10478', '119541', '76983', '54380', '100832', '58992', '59683', '21743', '58992', '23800', '72751', '16013', '77002', '98207', '121592', '112642', '48177', '104737', '99971', '72640', '82405', '2954', '1177', '91597', '128785', '22259', '126608', '83356', '48948', '66700', '99797', '6455', '21828', '89406', '43087', '116356', '13005', '76350', '90742', '22660', '9835', '46818', '91387']"
        ],
        [
         "48",
         "['114330', '9385', '9224', '101860', '126196', '112381', '66478', '130251', '82683', '4859', '95855', '24473', '126475', '60267', '55324', '55923', '16925', '94836']"
        ],
        [
         "49",
         "['54171', '126673', '102743', '7391', '62450', '34885', '43428', '84959', '35269', '83227', '92241', '77367', '56068', '4289', '7673', '32756', '86008', '92655', '111468', '61481', '129083', '93237', '64518', '67133', '69016', '5305', '35001', '125141', '79285', '66190', '27352', '97753', '64642', '13075', '50645', '3948', '36397', '60832', '86264', '59645', '12614', '72046', '100033', '15375', '29753', '2620', '76476', '121592', '39414', '26863']"
        ]
       ],
       "shape": {
        "columns": 1,
        "rows": 414142
       }
      },
      "text/plain": [
       "0         [64300, 48084, 91968, 13434, 73137, 1886, 9096...\n",
       "1         [4833, 61319, 94639, 50163, 107002, 112041, 49...\n",
       "2         [112192, 82348, 80126, 78767, 7553, 87364, 121...\n",
       "3         [64593, 82779, 33216, 9321, 128643, 64496, 680...\n",
       "4         [36816, 51964, 16426, 85101, 49839, 102403, 12...\n",
       "                                ...                        \n",
       "414137    [29295, 41003, 71165, 96713, 71977, 72976, 104...\n",
       "414138    [50645, 107441, 14121, 71665, 81774, 54360, 58...\n",
       "414139    [87446, 104938, 49247, 112324, 103181, 84940, ...\n",
       "414140        [108621, 87105, 63676, 102743, 106985, 35508]\n",
       "414141    [26834, 86208, 83597, 90359, 91280, 55318, 859...\n",
       "Name: history, Length: 414142, dtype: object"
      ]
     },
     "execution_count": 25,
     "metadata": {},
     "output_type": "execute_result"
    }
   ],
   "source": [
    "def history_nearest_neighbors(history, news_id, k=5):\n",
    "    \"\"\"\n",
    "    Find the k nearest neighbors of a news item in the user's history.\n",
    "    \"\"\"\n",
    "    if not history:\n",
    "        return []\n",
    "    history = [int(news[1:]) for news in history.split()]\n",
    "    if news_id not in history:\n",
    "        return []\n",
    "    distances = [(abs(news_id - other_news), other_news) for other_news in history if other_news != news_id]\n",
    "    distances.sort()\n",
    "    return [news for _, news in distances[:k]]"
   ]
  },
  {
   "cell_type": "code",
   "execution_count": null,
   "id": "802d6664",
   "metadata": {},
   "outputs": [],
   "source": [
    "def calculate_pairwise_dissimilarity(features):\n",
    "    features = np.stack(features)\n",
    "    norms = np.linalg.norm(features, axis=1, keepdims=True)\n",
    "    normalized = features / norms\n",
    "    similarity_matrix = np.dot(normalized, normalized.T)\n",
    "    return 1 - similarity_matrix\n",
    "\n",
    "def average_pairwise_dissimilarity(features):\n",
    "    if len(features) < 2:\n",
    "        return 0.0 # A list with 0 or 1 item has no diversity\n",
    "\n",
    "    dissimilarity_matrix = calculate_pairwise_dissimilarity(features)\n",
    "    \n",
    "    # We only need the upper triangle (excluding diagonal)\n",
    "    # The sum of unique pairs is the sum of all elements divided by 2 (because it's symmetric)\n",
    "    # and subtracting the diagonal (which is 0 for dissimilarity to itself).\n",
    "    # Easier: sum the upper triangle\n",
    "    upper_triangle_sum = np.sum(np.triu(dissimilarity_matrix, k=1))\n",
    "    \n",
    "    num_pairs = len(features) * (len(features) - 1) / 2\n",
    "    \n",
    "    if num_pairs == 0:\n",
    "        return 0.0\n",
    "        \n",
    "    return upper_triangle_sum / num_pairs\n",
    "\n"
   ]
  },
  {
   "cell_type": "code",
   "execution_count": 41,
   "id": "c69201a3",
   "metadata": {},
   "outputs": [
    {
     "data": {
      "text/plain": [
       "(129, 25)"
      ]
     },
     "execution_count": 41,
     "metadata": {},
     "output_type": "execute_result"
    }
   ],
   "source": [
    "\n",
    "len(items), len(targets)"
   ]
  },
  {
   "cell_type": "code",
   "execution_count": 53,
   "id": "1fbf77c0",
   "metadata": {},
   "outputs": [],
   "source": [
    "item_similarity = average_pairwise_dissimilarity(items)\n",
    "target_similarity = average_pairwise_dissimilarity(targets)\n",
    "targets_2_similarity = average_pairwise_dissimilarity(targets_2)\n",
    "targets_3_similarity = average_pairwise_dissimilarity(targets_3)"
   ]
  },
  {
   "cell_type": "code",
   "execution_count": 54,
   "id": "92b4987c",
   "metadata": {},
   "outputs": [
    {
     "name": "stdout",
     "output_type": "stream",
     "text": [
      "Item similarity: 0.5139478445053101\n",
      "Target similarity: 0.4761843979358673\n",
      "Targets 2 similarity: 0.4427332878112793\n",
      "Targets 3 similarity: 0.35763439536094666\n"
     ]
    }
   ],
   "source": [
    "print(f\"Item similarity: {item_similarity}\")\n",
    "print(f\"Target similarity: {target_similarity}\")\n",
    "print(f\"Targets 2 similarity: {targets_2_similarity}\")\n",
    "print(f\"Targets 3 similarity: {targets_3_similarity}\")"
   ]
  }
 ],
 "metadata": {
  "kernelspec": {
   "display_name": "simblend",
   "language": "python",
   "name": "python3"
  },
  "language_info": {
   "codemirror_mode": {
    "name": "ipython",
    "version": 3
   },
   "file_extension": ".py",
   "mimetype": "text/x-python",
   "name": "python",
   "nbconvert_exporter": "python",
   "pygments_lexer": "ipython3",
   "version": "3.13.3"
  }
 },
 "nbformat": 4,
 "nbformat_minor": 5
}
