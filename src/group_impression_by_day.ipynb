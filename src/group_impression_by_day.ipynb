{
 "cells": [
  {
   "cell_type": "code",
   "execution_count": 1,
   "id": "f6333ca9",
   "metadata": {},
   "outputs": [],
   "source": [
    "from pathlib import Path\n",
    "import pandas as pd\n",
    "from tqdm.notebook import trange, tqdm"
   ]
  },
  {
   "cell_type": "code",
   "execution_count": 7,
   "id": "e9d2f881",
   "metadata": {},
   "outputs": [],
   "source": [
    "train_news_data = None\n",
    "dev_news_data = None\n",
    "MIND_dev_path = Path('/mount/arbeitsdaten66/projekte/multiview/hardy/datasets/mind/MINDlarge_dev')\n",
    "MIND_train_path = Path('/mount/arbeitsdaten66/projekte/multiview/hardy/datasets/mind/MINDlarge_train')\n",
    "MIND_test_path = Path('/mount/arbeitsdaten66/projekte/multiview/hardy/datasets/mind/MINDlarge_test')"
   ]
  },
  {
   "cell_type": "code",
   "execution_count": null,
   "id": "034b5b07",
   "metadata": {},
   "outputs": [],
   "source": [
    "def append_history(df_behaviors):\n",
    "    \"\"\"\n",
    "    MIND dataset has a bug where rows with the same user_id has similar history. This function will fix\n",
    "    it by appending the user history with the clicked articles of previous impression for each user. \n",
    "    \"\"\"\n",
    "    df_behaviors['timestamp'] = pd.to_datetime(df_behaviors['timestamp'])\n",
    "    df_behaviors['history'] = df_behaviors['history'].apply(lambda x: x.split() if type(x) == str else [])\n",
    "    cal_history = {}\n",
    "    for user_id, group in tqdm(df_behaviors.sort_values(by=['user_id', 'timestamp']).groupby('user_id')):\n",
    "        cum_history = []\n",
    "        for i, (index, row) in enumerate(group.iterrows()):\n",
    "            if i != 0:\n",
    "                row['history'].extend(cum_history)\n",
    "                impression = [i.split('-')[0] for i in row['impressions'].split() if i.endswith('-1')]\n",
    "                cum_history.extend(impression)\n",
    "            else:\n",
    "                cum_history = [i.split('-')[0] for i in row['impressions'].split() if i.endswith('-1')]\n",
    "            cal_history[index] = row['history']\n",
    "    history_series = pd.Series(cal_history)\n",
    "    df_behaviors['history'] = history_series\n",
    "    df_behaviors['history'] = df_behaviors['history'].apply(lambda x: ' '.join(x))\n",
    "    last_user_rows = df_behaviors.sort_values(by='timestamp').groupby('user_id').tail(1)\n",
    "    return last_user_rows\n",
    "\n",
    "def load_and_fix_df(path):\n",
    "    df_behaviors = pd.read_csv(path / \"behaviors.tsv\", header=None, sep='\\t')\n",
    "    df_behaviors.columns = ['impression_id', 'user_id', 'timestamp', 'history', 'impressions']\n",
    "    df_behaviors['timestamp'] = pd.to_datetime(df_behaviors['timestamp'])\n",
    "    df_behaviors = append_history(df_behaviors)\n",
    "    return df_behaviors\n",
    "\n"
   ]
  },
  {
   "cell_type": "code",
   "execution_count": 23,
   "id": "6c79a5a3",
   "metadata": {},
   "outputs": [
    {
     "data": {
      "application/vnd.jupyter.widget-view+json": {
       "model_id": "22bf19fef96345a38e0628444c277aa9",
       "version_major": 2,
       "version_minor": 0
      },
      "text/plain": [
       "  0%|          | 0/711222 [00:00<?, ?it/s]"
      ]
     },
     "metadata": {},
     "output_type": "display_data"
    }
   ],
   "source": [
    "df_train = load_and_fix_df(MIND_train_path)"
   ]
  },
  {
   "cell_type": "code",
   "execution_count": 24,
   "id": "359a2f93",
   "metadata": {},
   "outputs": [
    {
     "data": {
      "application/vnd.jupyter.widget-view+json": {
       "model_id": "282b83aa3cce4222b7b07281bb4be21e",
       "version_major": 2,
       "version_minor": 0
      },
      "text/plain": [
       "  0%|          | 0/255990 [00:00<?, ?it/s]"
      ]
     },
     "metadata": {},
     "output_type": "display_data"
    }
   ],
   "source": [
    "df_dev = load_and_fix_df(MIND_dev_path)"
   ]
  },
  {
   "cell_type": "code",
   "execution_count": 25,
   "id": "6b16dd6a",
   "metadata": {},
   "outputs": [
    {
     "data": {
      "application/vnd.jupyter.widget-view+json": {
       "model_id": "38116d83eaef440a8a0765da53e0b5e4",
       "version_major": 2,
       "version_minor": 0
      },
      "text/plain": [
       "  0%|          | 0/702005 [00:00<?, ?it/s]"
      ]
     },
     "metadata": {},
     "output_type": "display_data"
    }
   ],
   "source": [
    "df_test = load_and_fix_df(MIND_test_path)"
   ]
  },
  {
   "cell_type": "code",
   "execution_count": 26,
   "id": "ae3f0cd9",
   "metadata": {},
   "outputs": [
    {
     "name": "stdout",
     "output_type": "stream",
     "text": [
      "Train set:\n",
      "Earliest timestamp: 2019-11-09 00:00:00\n",
      "Latest timestamp: 2019-11-14 23:59:59\n",
      "\n",
      "Dev set:\n",
      "Earliest timestamp: 2019-11-15 00:00:00\n",
      "Latest timestamp: 2019-11-15 23:59:43\n",
      "\n",
      "Test set:\n",
      "Earliest timestamp: 2019-11-16 00:00:05\n",
      "Latest timestamp: 2019-11-22 23:59:58\n"
     ]
    }
   ],
   "source": [
    "print(\"Train set:\")\n",
    "print(\"Earliest timestamp:\", df_train['timestamp'].min())\n",
    "print(\"Latest timestamp:\", df_train['timestamp'].max())\n",
    "\n",
    "print(\"\\nDev set:\")\n",
    "print(\"Earliest timestamp:\", df_dev['timestamp'].min())\n",
    "print(\"Latest timestamp:\", df_dev['timestamp'].max())\n",
    "\n",
    "print(\"\\nTest set:\")\n",
    "print(\"Earliest timestamp:\", df_test['timestamp'].min())\n",
    "print(\"Latest timestamp:\", df_test['timestamp'].max())"
   ]
  },
  {
   "cell_type": "code",
   "execution_count": null,
   "id": "e9575424",
   "metadata": {},
   "outputs": [],
   "source": []
  },
  {
   "cell_type": "code",
   "execution_count": 52,
   "id": "fbcc0a2f",
   "metadata": {},
   "outputs": [],
   "source": [
    "def split_and_save(df, path):\n",
    "    # Split df into groups by date (each group is a single day)\n",
    "    df['date'] = df['timestamp'].dt.date\n",
    "    train_groups_by_day = df.groupby('date')\n",
    "    article_groups_by_day = {}\n",
    "    for id, group in tqdm(train_groups_by_day):\n",
    "        impression_rows = group['impressions'].apply(lambda x: [i.split('-')[0] for i in x.split()]).to_list()\n",
    "        unique_articles = set()\n",
    "        for impressions in impression_rows:\n",
    "            unique_articles.update(set(impressions))\n",
    "        article_groups_by_day[id] = ' '.join(list(unique_articles))\n",
    "    article_groups_df = pd.DataFrame(\n",
    "        [(date, articles) for date, articles in article_groups_by_day.items()],\n",
    "        columns=['Date', 'Articles']\n",
    "    )\n",
    "    article_groups_df.to_csv(path / 'grouped_behaviors.tsv', sep='\\t', header=False)"
   ]
  },
  {
   "cell_type": "code",
   "execution_count": 53,
   "id": "6774385c",
   "metadata": {},
   "outputs": [
    {
     "data": {
      "application/vnd.jupyter.widget-view+json": {
       "model_id": "abbe79b91fdd4ef48936b422b80d6d4b",
       "version_major": 2,
       "version_minor": 0
      },
      "text/plain": [
       "  0%|          | 0/6 [00:00<?, ?it/s]"
      ]
     },
     "metadata": {},
     "output_type": "display_data"
    },
    {
     "data": {
      "application/vnd.jupyter.widget-view+json": {
       "model_id": "70eec48cbe0d4ace9c4ed72206299cd4",
       "version_major": 2,
       "version_minor": 0
      },
      "text/plain": [
       "  0%|          | 0/7 [00:00<?, ?it/s]"
      ]
     },
     "metadata": {},
     "output_type": "display_data"
    },
    {
     "data": {
      "application/vnd.jupyter.widget-view+json": {
       "model_id": "c96d0856ba6b47ceb1e11808056a8db3",
       "version_major": 2,
       "version_minor": 0
      },
      "text/plain": [
       "  0%|          | 0/1 [00:00<?, ?it/s]"
      ]
     },
     "metadata": {},
     "output_type": "display_data"
    }
   ],
   "source": [
    "split_and_save(df_train, MIND_train_path)\n",
    "split_and_save(df_test, MIND_test_path)\n",
    "split_and_save(df_dev, MIND_dev_path)"
   ]
  },
  {
   "cell_type": "code",
   "execution_count": null,
   "id": "ecf033b3",
   "metadata": {},
   "outputs": [
    {
     "data": {
      "text/html": [
       "<div>\n",
       "<style scoped>\n",
       "    .dataframe tbody tr th:only-of-type {\n",
       "        vertical-align: middle;\n",
       "    }\n",
       "\n",
       "    .dataframe tbody tr th {\n",
       "        vertical-align: top;\n",
       "    }\n",
       "\n",
       "    .dataframe thead th {\n",
       "        text-align: right;\n",
       "    }\n",
       "</style>\n",
       "<table border=\"1\" class=\"dataframe\">\n",
       "  <thead>\n",
       "    <tr style=\"text-align: right;\">\n",
       "      <th></th>\n",
       "      <th>Date</th>\n",
       "      <th>Articles</th>\n",
       "    </tr>\n",
       "  </thead>\n",
       "  <tbody>\n",
       "    <tr>\n",
       "      <th>0</th>\n",
       "      <td>2019-11-09</td>\n",
       "      <td>N2102 N79529 N87803 N81940 N72466 N7864 N12325...</td>\n",
       "    </tr>\n",
       "    <tr>\n",
       "      <th>1</th>\n",
       "      <td>2019-11-10</td>\n",
       "      <td>N2102 N125329 N117066 N87803 N81940 N81425 N12...</td>\n",
       "    </tr>\n",
       "    <tr>\n",
       "      <th>2</th>\n",
       "      <td>2019-11-11</td>\n",
       "      <td>N78324 N117066 N87803 N81940 N90696 N39692 N88...</td>\n",
       "    </tr>\n",
       "    <tr>\n",
       "      <th>3</th>\n",
       "      <td>2019-11-12</td>\n",
       "      <td>N110939 N11975 N125329 N117066 N79529 N81425 N...</td>\n",
       "    </tr>\n",
       "    <tr>\n",
       "      <th>4</th>\n",
       "      <td>2019-11-13</td>\n",
       "      <td>N69396 N119317 N117066 N63935 N81940 N124008 N...</td>\n",
       "    </tr>\n",
       "    <tr>\n",
       "      <th>5</th>\n",
       "      <td>2019-11-14</td>\n",
       "      <td>N69396 N125329 N72308 N117066 N119317 N81940 N...</td>\n",
       "    </tr>\n",
       "  </tbody>\n",
       "</table>\n",
       "</div>"
      ],
      "text/plain": [
       "         Date                                           Articles\n",
       "0  2019-11-09  N2102 N79529 N87803 N81940 N72466 N7864 N12325...\n",
       "1  2019-11-10  N2102 N125329 N117066 N87803 N81940 N81425 N12...\n",
       "2  2019-11-11  N78324 N117066 N87803 N81940 N90696 N39692 N88...\n",
       "3  2019-11-12  N110939 N11975 N125329 N117066 N79529 N81425 N...\n",
       "4  2019-11-13  N69396 N119317 N117066 N63935 N81940 N124008 N...\n",
       "5  2019-11-14  N69396 N125329 N72308 N117066 N119317 N81940 N..."
      ]
     },
     "execution_count": 47,
     "metadata": {},
     "output_type": "execute_result"
    }
   ],
   "source": []
  }
 ],
 "metadata": {
  "kernelspec": {
   "display_name": ".venv",
   "language": "python",
   "name": "python3"
  },
  "language_info": {
   "codemirror_mode": {
    "name": "ipython",
    "version": 3
   },
   "file_extension": ".py",
   "mimetype": "text/x-python",
   "name": "python",
   "nbconvert_exporter": "python",
   "pygments_lexer": "ipython3",
   "version": "3.13.3"
  }
 },
 "nbformat": 4,
 "nbformat_minor": 5
}
