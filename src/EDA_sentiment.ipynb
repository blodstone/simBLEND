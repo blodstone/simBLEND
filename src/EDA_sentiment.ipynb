{
 "cells": [
  {
   "cell_type": "code",
   "execution_count": 1,
   "id": "8c19f679",
   "metadata": {},
   "outputs": [],
   "source": [
    "import pandas as pd"
   ]
  },
  {
   "cell_type": "code",
   "execution_count": 3,
   "id": "c306b112",
   "metadata": {},
   "outputs": [],
   "source": [
    "df = pd.read_csv('/mount/arbeitsdaten66/projekte/multiview/hardy/datasets/mind/MINDlarge_sentiment_dev/news.tsv', sep='\\t', header=None)"
   ]
  },
  {
   "cell_type": "code",
   "execution_count": 13,
   "id": "de9342da",
   "metadata": {},
   "outputs": [
    {
     "data": {
      "text/plain": [
       "\"[{'span': 'NFL', 'polarity': np.str_('Informative')}, {'span': 'players', 'polarity': np.str_('Informative')}, {'span': 'officiating', 'polarity': np.str_('Informative')}, {'span': 'fines', 'polarity': np.str_('Informative')}, {'span': 'NFL players', 'polarity': np.str_('Informative')}, {'span': 'week', 'polarity': np.str_('Informative')}, {'span': 'look', 'polarity': np.str_('Informative')}, {'span': 'league', 'polarity': np.str_('Informative')}]\""
      ]
     },
     "execution_count": 13,
     "metadata": {},
     "output_type": "execute_result"
    }
   ],
   "source": [
    "df.iloc[7][10]"
   ]
  }
 ],
 "metadata": {
  "kernelspec": {
   "display_name": ".venv",
   "language": "python",
   "name": "python3"
  },
  "language_info": {
   "codemirror_mode": {
    "name": "ipython",
    "version": 3
   },
   "file_extension": ".py",
   "mimetype": "text/x-python",
   "name": "python",
   "nbconvert_exporter": "python",
   "pygments_lexer": "ipython3",
   "version": "3.13.3"
  }
 },
 "nbformat": 4,
 "nbformat_minor": 5
}
