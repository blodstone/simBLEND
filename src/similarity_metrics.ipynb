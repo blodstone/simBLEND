{
 "cells": [
  {
   "cell_type": "code",
   "execution_count": 3,
   "id": "2a10d0a2",
   "metadata": {},
   "outputs": [],
   "source": [
    "import pandas as pd\n",
    "from pathlib import Path\n",
    "import numpy as np\n",
    "from utils.file import load_aspect_vectors"
   ]
  },
  {
   "cell_type": "code",
   "execution_count": 4,
   "id": "bcaae70e",
   "metadata": {},
   "outputs": [],
   "source": [
    "items = [\"N76209-0\", \"N48841-0\", \"N67937-0\", \"N62235-0\", \"N6307-0\", \"N34254-0\", \"N89112-0\", \"N27471-0\", \"N72919-0\", \"N48758-0\", \"N57001-0\", \"N45782-0\", \"N25249-0\", \"N12907-0\", \"N46931-0\", \"N55816-0\", \"N34424-0\", \"N49048-0\", \"N123028-0\", \"N44109-0\", \"N56451-0\", \"N44264-0\", \"N80770-0\", \"N127593-0\", \"N120147-0\", \"N20553-0\", \"N32433-0\", \"N2297-0\", \"N51048-0\", \"N107893-0\", \"N117695-0\", \"N88596-0\", \"N67588-0\", \"N113680-0\", \"N78508-0\", \"N20312-0\", \"N83707-0\", \"N20250-0\", \"N103772-0\", \"N99529-0\", \"N46223-0\", \"N110603-0\", \"N104990-0\", \"N24735-0\", \"N96840-0\", \"N102499-0\", \"N51163-0\", \"N26122-0\", \"N54845-0\", \"N29477-0\", \"N55761-0\", \"N59866-0\", \"N41737-0\", \"N23748-0\", \"N45724-0\", \"N51569-0\", \"N32863-0\", \"N122559-0\", \"N13761-0\", \"N38861-0\", \"N114449-0\", \"N35236-0\", \"N81570-0\", \"N61964-0\", \"N18070-0\", \"N121758-0\", \"N5496-0\", \"N122150-0\", \"N40795-0\", \"N91390-0\", \"N92199-0\", \"N64785-0\", \"N9447-0\", \"N25756-0\", \"N4232-0\", \"N34629-0\", \"N83374-0\", \"N63342-0\", \"N92449-0\", \"N72485-0\", \"N69201-0\", \"N28821-0\", \"N92077-0\", \"N79044-0\", \"N123120-0\", \"N76189-0\", \"N45410-0\", \"N27862-0\", \"N32419-0\", \"N75305-0\", \"N76665-0\", \"N3623-0\", \"N33011-0\", \"N126134-0\", \"N48205-0\", \"N65446-0\", \"N14804-0\", \"N110439-0\", \"N75646-0\", \"N33702-0\", \"N44620-0\", \"N93873-0\", \"N91238-0\", \"N100289-0\", \"N33539-0\", \"N68624-0\", \"N77712-0\", \"N19455-0\", \"N92300-0\", \"N25814-0\", \"N25443-0\", \"N84574-0\", \"N112156-0\", \"N117411-0\", \"N70883-0\", \"N4371-0\", \"N103810-0\", \"N87146-0\", \"N23077-0\", \"N27836-0\", \"N11846-0\", \"N67955-0\", \"N86258-1\", \"N88329-0\", \"N16161-0\", \"N94999-0\", \"N129503-0\", \"N87070-0\", \"N120708-0\"]"
   ]
  },
  {
   "cell_type": "code",
   "execution_count": 5,
   "id": "ac97bfb7",
   "metadata": {},
   "outputs": [],
   "source": [
    "train_aspect_vector = load_aspect_vectors(Path('/home/users1/hardy/hardy/project/vae/outputs/mind/train_mind_std_sts_aspect_vectors.txt'))\n",
    "std_aspect_vector = load_aspect_vectors(Path('/home/users1/hardy/hardy/project/vae/outputs/mind/dev_mind_std_sts_aspect_vectors.txt'))"
   ]
  },
  {
   "cell_type": "code",
   "execution_count": 19,
   "id": "91064d45",
   "metadata": {},
   "outputs": [],
   "source": [
    "aspect_vector = {}\n",
    "aspect_vector.update(train_aspect_vector)\n",
    "aspect_vector.update(std_aspect_vector)"
   ]
  },
  {
   "cell_type": "code",
   "execution_count": 6,
   "id": "3d49aad2",
   "metadata": {},
   "outputs": [],
   "source": [
    "items = [std_aspect_vector[int(i.split(\"-\")[0][1:])] for i in items]"
   ]
  },
  {
   "cell_type": "code",
   "execution_count": 40,
   "id": "13447775",
   "metadata": {},
   "outputs": [],
   "source": [
    "targets = [54154,\n",
    " 12210,\n",
    " 42822,\n",
    " 29441,\n",
    " 64659,\n",
    " 92009,\n",
    " 65452,\n",
    " 75692,\n",
    " 104173,\n",
    " 55498,\n",
    " 80974,\n",
    " 65747,\n",
    " 127660,\n",
    " 75109,\n",
    " 63908,\n",
    " 82315,\n",
    " 111798,\n",
    " 23920,\n",
    " 12974,\n",
    " 99867,\n",
    " 47474,\n",
    " 364,\n",
    " 96540,\n",
    " 40513,\n",
    " 18642]\n",
    "targets = [std_aspect_vector[i] for i in targets]"
   ]
  },
  {
   "cell_type": "code",
   "execution_count": 52,
   "id": "685e6f33",
   "metadata": {},
   "outputs": [],
   "source": [
    "targets_2 = [54154, 43046, 112827, 18960, 94317]\n",
    "targets_2 = [std_aspect_vector[i] for i in targets_2]\n",
    "targets_3 = [43046, 66243, 95798, 102113, 128696]\n",
    "targets_3 = [std_aspect_vector[i] for i in targets_3]\n"
   ]
  },
  {
   "cell_type": "code",
   "execution_count": null,
   "id": "802d6664",
   "metadata": {},
   "outputs": [],
   "source": [
    "def calculate_pairwise_dissimilarity(features):\n",
    "    features = np.stack(features)\n",
    "    norms = np.linalg.norm(features, axis=1, keepdims=True)\n",
    "    normalized = features / norms\n",
    "    similarity_matrix = np.dot(normalized, normalized.T)\n",
    "    return 1 - similarity_matrix\n",
    "\n",
    "def average_pairwise_dissimilarity(features):\n",
    "    if len(features) < 2:\n",
    "        return 0.0 # A list with 0 or 1 item has no diversity\n",
    "\n",
    "    dissimilarity_matrix = calculate_pairwise_dissimilarity(features)\n",
    "    \n",
    "    # We only need the upper triangle (excluding diagonal)\n",
    "    # The sum of unique pairs is the sum of all elements divided by 2 (because it's symmetric)\n",
    "    # and subtracting the diagonal (which is 0 for dissimilarity to itself).\n",
    "    # Easier: sum the upper triangle\n",
    "    upper_triangle_sum = np.sum(np.triu(dissimilarity_matrix, k=1))\n",
    "    \n",
    "    num_pairs = len(features) * (len(features) - 1) / 2\n",
    "    \n",
    "    if num_pairs == 0:\n",
    "        return 0.0\n",
    "        \n",
    "    return upper_triangle_sum / num_pairs\n",
    "\n"
   ]
  },
  {
   "cell_type": "code",
   "execution_count": 41,
   "id": "c69201a3",
   "metadata": {},
   "outputs": [
    {
     "data": {
      "text/plain": [
       "(129, 25)"
      ]
     },
     "execution_count": 41,
     "metadata": {},
     "output_type": "execute_result"
    }
   ],
   "source": [
    "\n",
    "len(items), len(targets)"
   ]
  },
  {
   "cell_type": "code",
   "execution_count": 53,
   "id": "1fbf77c0",
   "metadata": {},
   "outputs": [],
   "source": [
    "item_similarity = average_pairwise_dissimilarity(items)\n",
    "target_similarity = average_pairwise_dissimilarity(targets)\n",
    "targets_2_similarity = average_pairwise_dissimilarity(targets_2)\n",
    "targets_3_similarity = average_pairwise_dissimilarity(targets_3)"
   ]
  },
  {
   "cell_type": "code",
   "execution_count": 54,
   "id": "92b4987c",
   "metadata": {},
   "outputs": [
    {
     "name": "stdout",
     "output_type": "stream",
     "text": [
      "Item similarity: 0.5139478445053101\n",
      "Target similarity: 0.4761843979358673\n",
      "Targets 2 similarity: 0.4427332878112793\n",
      "Targets 3 similarity: 0.35763439536094666\n"
     ]
    }
   ],
   "source": [
    "print(f\"Item similarity: {item_similarity}\")\n",
    "print(f\"Target similarity: {target_similarity}\")\n",
    "print(f\"Targets 2 similarity: {targets_2_similarity}\")\n",
    "print(f\"Targets 3 similarity: {targets_3_similarity}\")"
   ]
  }
 ],
 "metadata": {
  "kernelspec": {
   "display_name": ".venv",
   "language": "python",
   "name": "python3"
  },
  "language_info": {
   "codemirror_mode": {
    "name": "ipython",
    "version": 3
   },
   "file_extension": ".py",
   "mimetype": "text/x-python",
   "name": "python",
   "nbconvert_exporter": "python",
   "pygments_lexer": "ipython3",
   "version": "3.12.11"
  }
 },
 "nbformat": 4,
 "nbformat_minor": 5
}
